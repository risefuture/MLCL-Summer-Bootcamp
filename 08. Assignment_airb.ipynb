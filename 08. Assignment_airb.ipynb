{
 "cells": [
  {
   "attachments": {},
   "cell_type": "markdown",
   "metadata": {},
   "source": [
    "# Assginment (2023-06-22 ~ 2023-06-26 14:00)\n",
    "\n",
    "## 3. `arib` Dataset"
   ]
  },
  {
   "attachments": {},
   "cell_type": "markdown",
   "metadata": {},
   "source": [
    "- import *module*"
   ]
  },
  {
   "cell_type": "code",
   "execution_count": 1,
   "metadata": {},
   "outputs": [],
   "source": [
    "import pandas as pd\n",
    "import os"
   ]
  },
  {
   "attachments": {},
   "cell_type": "markdown",
   "metadata": {},
   "source": [
    "- set the *data directory*"
   ]
  },
  {
   "cell_type": "code",
   "execution_count": 2,
   "metadata": {},
   "outputs": [],
   "source": [
    "data_dir = '/NasData/home/knh/review/data/'\n",
    "air_dir = os.path.join(data_dir, 'airb')"
   ]
  },
  {
   "cell_type": "code",
   "execution_count": 3,
   "metadata": {},
   "outputs": [
    {
     "name": "stdout",
     "output_type": "stream",
     "text": [
      "/NasData/home/knh/review/data/airb\n"
     ]
    }
   ],
   "source": [
    "print(air_dir)"
   ]
  },
  {
   "cell_type": "code",
   "execution_count": 4,
   "metadata": {},
   "outputs": [
    {
     "name": "stdout",
     "output_type": "stream",
     "text": [
      "['AirBNBReviews.csv']\n"
     ]
    }
   ],
   "source": [
    "print(os.listdir(air_dir))"
   ]
  },
  {
   "attachments": {},
   "cell_type": "markdown",
   "metadata": {},
   "source": [
    "### 1. Load the data from the csv file\n",
    "\n",
    "- use `pd.read_csv()` function"
   ]
  },
  {
   "cell_type": "code",
   "execution_count": 5,
   "metadata": {},
   "outputs": [],
   "source": [
    "airb_csv = os.path.join(air_dir, 'AirBNBReviews.csv')"
   ]
  },
  {
   "cell_type": "code",
   "execution_count": 6,
   "metadata": {},
   "outputs": [
    {
     "name": "stdout",
     "output_type": "stream",
     "text": [
      "/NasData/home/knh/review/data/airb/AirBNBReviews.csv\n"
     ]
    }
   ],
   "source": [
    "print(airb_csv)"
   ]
  },
  {
   "cell_type": "code",
   "execution_count": 7,
   "metadata": {},
   "outputs": [
    {
     "name": "stdout",
     "output_type": "stream",
     "text": [
      "Check in csv file:  True\n"
     ]
    }
   ],
   "source": [
    "print(\"Check in csv file: \", os.path.isfile(airb_csv))"
   ]
  },
  {
   "cell_type": "code",
   "execution_count": 8,
   "metadata": {},
   "outputs": [],
   "source": [
    "airb_df = pd.read_csv(airb_csv)"
   ]
  },
  {
   "cell_type": "code",
   "execution_count": 9,
   "metadata": {},
   "outputs": [
    {
     "name": "stdout",
     "output_type": "stream",
     "text": [
      "                 Genre                                             Review  \\\n",
      "0             Location  The location of this Airbnb was perfect, close...   \n",
      "1          Cleanliness  The cleanliness of the Airbnb was outstanding,...   \n",
      "2         Neighborhood  The neighborhood where this Airbnb is situated...   \n",
      "3             Security  I felt completely safe and secure during my st...   \n",
      "4     Pet Friendliness  They were so welcoming to my pet, it felt like...   \n",
      "..                 ...                                                ...   \n",
      "349               Host  Unfortunately, the host was unresponsive and l...   \n",
      "350               Host  I experienced difficulties in reaching the hos...   \n",
      "351               Host  The host was unaccommodating and did not adequ...   \n",
      "352               Host  I felt unwelcome by the host, with minimal com...   \n",
      "353               Host  The host was unhelpful and showed a lack of in...   \n",
      "\n",
      "     Positive or Negative  \n",
      "0                     1.0  \n",
      "1                     1.0  \n",
      "2                     1.0  \n",
      "3                     1.0  \n",
      "4                     1.0  \n",
      "..                    ...  \n",
      "349                   0.0  \n",
      "350                   0.0  \n",
      "351                   0.0  \n",
      "352                   0.0  \n",
      "353                   0.0  \n",
      "\n",
      "[354 rows x 3 columns]\n"
     ]
    }
   ],
   "source": [
    "print(airb_df)"
   ]
  },
  {
   "cell_type": "code",
   "execution_count": 10,
   "metadata": {},
   "outputs": [
    {
     "data": {
      "text/html": [
       "<div>\n",
       "<style scoped>\n",
       "    .dataframe tbody tr th:only-of-type {\n",
       "        vertical-align: middle;\n",
       "    }\n",
       "\n",
       "    .dataframe tbody tr th {\n",
       "        vertical-align: top;\n",
       "    }\n",
       "\n",
       "    .dataframe thead th {\n",
       "        text-align: right;\n",
       "    }\n",
       "</style>\n",
       "<table border=\"1\" class=\"dataframe\">\n",
       "  <thead>\n",
       "    <tr style=\"text-align: right;\">\n",
       "      <th></th>\n",
       "      <th>Genre</th>\n",
       "      <th>Review</th>\n",
       "      <th>Positive or Negative</th>\n",
       "    </tr>\n",
       "  </thead>\n",
       "  <tbody>\n",
       "    <tr>\n",
       "      <th>0</th>\n",
       "      <td>Location</td>\n",
       "      <td>The location of this Airbnb was perfect, close...</td>\n",
       "      <td>1.0</td>\n",
       "    </tr>\n",
       "    <tr>\n",
       "      <th>1</th>\n",
       "      <td>Cleanliness</td>\n",
       "      <td>The cleanliness of the Airbnb was outstanding,...</td>\n",
       "      <td>1.0</td>\n",
       "    </tr>\n",
       "    <tr>\n",
       "      <th>2</th>\n",
       "      <td>Neighborhood</td>\n",
       "      <td>The neighborhood where this Airbnb is situated...</td>\n",
       "      <td>1.0</td>\n",
       "    </tr>\n",
       "    <tr>\n",
       "      <th>3</th>\n",
       "      <td>Security</td>\n",
       "      <td>I felt completely safe and secure during my st...</td>\n",
       "      <td>1.0</td>\n",
       "    </tr>\n",
       "    <tr>\n",
       "      <th>4</th>\n",
       "      <td>Pet Friendliness</td>\n",
       "      <td>They were so welcoming to my pet, it felt like...</td>\n",
       "      <td>1.0</td>\n",
       "    </tr>\n",
       "    <tr>\n",
       "      <th>...</th>\n",
       "      <td>...</td>\n",
       "      <td>...</td>\n",
       "      <td>...</td>\n",
       "    </tr>\n",
       "    <tr>\n",
       "      <th>349</th>\n",
       "      <td>Host</td>\n",
       "      <td>Unfortunately, the host was unresponsive and l...</td>\n",
       "      <td>0.0</td>\n",
       "    </tr>\n",
       "    <tr>\n",
       "      <th>350</th>\n",
       "      <td>Host</td>\n",
       "      <td>I experienced difficulties in reaching the hos...</td>\n",
       "      <td>0.0</td>\n",
       "    </tr>\n",
       "    <tr>\n",
       "      <th>351</th>\n",
       "      <td>Host</td>\n",
       "      <td>The host was unaccommodating and did not adequ...</td>\n",
       "      <td>0.0</td>\n",
       "    </tr>\n",
       "    <tr>\n",
       "      <th>352</th>\n",
       "      <td>Host</td>\n",
       "      <td>I felt unwelcome by the host, with minimal com...</td>\n",
       "      <td>0.0</td>\n",
       "    </tr>\n",
       "    <tr>\n",
       "      <th>353</th>\n",
       "      <td>Host</td>\n",
       "      <td>The host was unhelpful and showed a lack of in...</td>\n",
       "      <td>0.0</td>\n",
       "    </tr>\n",
       "  </tbody>\n",
       "</table>\n",
       "<p>354 rows × 3 columns</p>\n",
       "</div>"
      ],
      "text/plain": [
       "                 Genre                                             Review  \\\n",
       "0             Location  The location of this Airbnb was perfect, close...   \n",
       "1          Cleanliness  The cleanliness of the Airbnb was outstanding,...   \n",
       "2         Neighborhood  The neighborhood where this Airbnb is situated...   \n",
       "3             Security  I felt completely safe and secure during my st...   \n",
       "4     Pet Friendliness  They were so welcoming to my pet, it felt like...   \n",
       "..                 ...                                                ...   \n",
       "349               Host  Unfortunately, the host was unresponsive and l...   \n",
       "350               Host  I experienced difficulties in reaching the hos...   \n",
       "351               Host  The host was unaccommodating and did not adequ...   \n",
       "352               Host  I felt unwelcome by the host, with minimal com...   \n",
       "353               Host  The host was unhelpful and showed a lack of in...   \n",
       "\n",
       "     Positive or Negative  \n",
       "0                     1.0  \n",
       "1                     1.0  \n",
       "2                     1.0  \n",
       "3                     1.0  \n",
       "4                     1.0  \n",
       "..                    ...  \n",
       "349                   0.0  \n",
       "350                   0.0  \n",
       "351                   0.0  \n",
       "352                   0.0  \n",
       "353                   0.0  \n",
       "\n",
       "[354 rows x 3 columns]"
      ]
     },
     "execution_count": 10,
     "metadata": {},
     "output_type": "execute_result"
    }
   ],
   "source": [
    "airb_df"
   ]
  },
  {
   "cell_type": "code",
   "execution_count": 11,
   "metadata": {},
   "outputs": [
    {
     "name": "stdout",
     "output_type": "stream",
     "text": [
      "<class 'pandas.core.frame.DataFrame'>\n",
      "RangeIndex: 354 entries, 0 to 353\n",
      "Data columns (total 3 columns):\n",
      " #   Column                Non-Null Count  Dtype  \n",
      "---  ------                --------------  -----  \n",
      " 0   Genre                 341 non-null    object \n",
      " 1   Review                341 non-null    object \n",
      " 2   Positive or Negative  341 non-null    float64\n",
      "dtypes: float64(1), object(2)\n",
      "memory usage: 8.4+ KB\n",
      "None\n"
     ]
    }
   ],
   "source": [
    "print(airb_df.info())"
   ]
  },
  {
   "attachments": {},
   "cell_type": "markdown",
   "metadata": {},
   "source": [
    "### 2. Check the label distribution\n",
    "\n",
    "- use `.groupby()` function"
   ]
  },
  {
   "cell_type": "code",
   "execution_count": 12,
   "metadata": {},
   "outputs": [
    {
     "name": "stdout",
     "output_type": "stream",
     "text": [
      "Genre              Positive or Negative\n",
      " Cleanliness       0.0                     39\n",
      "                   1.0                     19\n",
      " Host              0.0                     38\n",
      "                   1.0                     18\n",
      " Location          0.0                     38\n",
      "                   1.0                     18\n",
      " Neighborhood      0.0                     38\n",
      "                   1.0                     19\n",
      " Pet Friendliness  0.0                     38\n",
      "                   1.0                     19\n",
      " Security          0.0                     38\n",
      "                   1.0                     19\n",
      "dtype: int64\n"
     ]
    }
   ],
   "source": [
    "label_distribution = airb_df.groupby(['Genre', 'Positive or Negative']).size()\n",
    "\n",
    "print(label_distribution)"
   ]
  },
  {
   "cell_type": "code",
   "execution_count": 13,
   "metadata": {},
   "outputs": [
    {
     "data": {
      "image/png": "[encoded data removed]",
      "text/plain": [
       "<Figure size 640x480 with 1 Axes>"
      ]
     },
     "metadata": {},
     "output_type": "display_data"
    }
   ],
   "source": [
    "import matplotlib.pyplot as plt\n",
    "\n",
    "airb_df.groupby(['Genre', 'Positive or Negative']).size().unstack().plot(kind='bar', stacked=True)\n",
    "plt.show()"
   ]
  },
  {
   "attachments": {},
   "cell_type": "markdown",
   "metadata": {},
   "source": [
    "### 3. Check the missing values\n",
    "\n",
    "- use `.isnull()` function"
   ]
  },
  {
   "cell_type": "code",
   "execution_count": 14,
   "metadata": {},
   "outputs": [
    {
     "name": "stdout",
     "output_type": "stream",
     "text": [
      "Genre                   13\n",
      "Review                  13\n",
      "Positive or Negative    13\n",
      "dtype: int64\n"
     ]
    }
   ],
   "source": [
    "missing_value = airb_df.isnull().sum()\n",
    "\n",
    "print(missing_value)"
   ]
  },
  {
   "attachments": {},
   "cell_type": "markdown",
   "metadata": {},
   "source": [
    "### 4. Convert to Token from Text"
   ]
  },
  {
   "cell_type": "code",
   "execution_count": 15,
   "metadata": {},
   "outputs": [
    {
     "name": "stderr",
     "output_type": "stream",
     "text": [
      "/NasData/home/knh/anaconda3/envs/mlcl/lib/python3.8/site-packages/tqdm/auto.py:21: TqdmWarning: IProgress not found. Please update jupyter and ipywidgets. See https://ipywidgets.readthedocs.io/en/stable/user_install.html\n",
      "  from .autonotebook import tqdm as notebook_tqdm\n"
     ]
    }
   ],
   "source": [
    "from transformers import AutoTokenizer, AutoModelForSequenceClassification\n",
    "\n",
    "tokenizer = AutoTokenizer.from_pretrained(\"nlptown/bert-base-multilingual-uncased-sentiment\")\n",
    "model = AutoModelForSequenceClassification.from_pretrained(\"nlptown/bert-base-multilingual-uncased-sentiment\")"
   ]
  },
  {
   "cell_type": "code",
   "execution_count": 16,
   "metadata": {},
   "outputs": [
    {
     "data": {
      "text/plain": [
       "\"I didn't feel comfortable leaving my belongings unattended in the Airbnb due to inadequate security. \""
      ]
     },
     "execution_count": 16,
     "metadata": {},
     "output_type": "execute_result"
    }
   ],
   "source": [
    "text_128 = airb_df['Review'][127]\n",
    "text_128"
   ]
  },
  {
   "cell_type": "code",
   "execution_count": 17,
   "metadata": {},
   "outputs": [
    {
     "data": {
      "text/plain": [
       "'The neighborhood had a reputation for thefts, affecting my peace of mind. '"
      ]
     },
     "execution_count": 17,
     "metadata": {},
     "output_type": "execute_result"
    }
   ],
   "source": [
    "text_256 = airb_df['Review'][255]\n",
    "text_256"
   ]
  },
  {
   "cell_type": "code",
   "execution_count": 24,
   "metadata": {},
   "outputs": [
    {
     "name": "stdout",
     "output_type": "stream",
     "text": [
      "Today is a heat wave warning.\n",
      "How beautiful the back of a person who knows when to go is!\n"
     ]
    }
   ],
   "source": [
    "text_custom_1 = \"Today is a heat wave warning.\"\n",
    "text_custom_2 = \"How beautiful the back of a person who knows when to go is!\"\n",
    "print(text_custom_1)\n",
    "print(text_custom_2)"
   ]
  },
  {
   "attachments": {},
   "cell_type": "markdown",
   "metadata": {},
   "source": [
    "#### 1. Encode The Review Text"
   ]
  },
  {
   "cell_type": "code",
   "execution_count": 20,
   "metadata": {},
   "outputs": [],
   "source": [
    "def tokenize_text(text):\n",
    "    text_to_token = tokenizer(text)\n",
    "    return text_to_token"
   ]
  },
  {
   "cell_type": "code",
   "execution_count": 21,
   "metadata": {},
   "outputs": [
    {
     "name": "stdout",
     "output_type": "stream",
     "text": [
      "I didn't feel comfortable leaving my belongings unattended in the Airbnb due to inadequate security. \n",
      "{'input_ids': [101, 151, 30557, 112, 162, 23333, 66493, 13356, 20105, 11153, 49909, 10107, 10155, 23708, 20298, 10104, 10103, 11140, 10417, 55216, 10875, 10114, 20150, 10282, 61420, 15636, 119, 102], 'token_type_ids': [0, 0, 0, 0, 0, 0, 0, 0, 0, 0, 0, 0, 0, 0, 0, 0, 0, 0, 0, 0, 0, 0, 0, 0, 0, 0, 0, 0], 'attention_mask': [1, 1, 1, 1, 1, 1, 1, 1, 1, 1, 1, 1, 1, 1, 1, 1, 1, 1, 1, 1, 1, 1, 1, 1, 1, 1, 1, 1]}\n",
      "------------------\n",
      "The neighborhood had a reputation for thefts, affecting my peace of mind. \n",
      "{'input_ids': [101, 10103, 32240, 10407, 143, 31514, 10139, 49601, 10107, 117, 56365, 10285, 11153, 16534, 10108, 15849, 119, 102], 'token_type_ids': [0, 0, 0, 0, 0, 0, 0, 0, 0, 0, 0, 0, 0, 0, 0, 0, 0, 0], 'attention_mask': [1, 1, 1, 1, 1, 1, 1, 1, 1, 1, 1, 1, 1, 1, 1, 1, 1, 1]}\n",
      "------------------\n",
      "Today is a heat wave warning.\n",
      "{'input_ids': [101, 13980, 10127, 143, 20658, 21560, 39983, 119, 102], 'token_type_ids': [0, 0, 0, 0, 0, 0, 0, 0, 0], 'attention_mask': [1, 1, 1, 1, 1, 1, 1, 1, 1]}\n",
      "------------------\n",
      "How beautiful the back of a person who knows when to go is!\n",
      "{'input_ids': [101, 12548, 20524, 10103, 11677, 10108, 143, 14150, 10488, 45864, 10704, 10114, 11335, 10127, 106, 102], 'token_type_ids': [0, 0, 0, 0, 0, 0, 0, 0, 0, 0, 0, 0, 0, 0, 0, 0], 'attention_mask': [1, 1, 1, 1, 1, 1, 1, 1, 1, 1, 1, 1, 1, 1, 1, 1]}\n",
      "------------------\n"
     ]
    }
   ],
   "source": [
    "for text in [text_128, text_256, text_custom_1, text_custom_2]:\n",
    "    print(text)\n",
    "    text_to_token = tokenize_text(text)\n",
    "    print(text_to_token)\n",
    "    print('------------------')"
   ]
  },
  {
   "attachments": {},
   "cell_type": "markdown",
   "metadata": {},
   "source": [
    "#### 2. Decode The Review Text from Token"
   ]
  },
  {
   "cell_type": "code",
   "execution_count": 22,
   "metadata": {},
   "outputs": [],
   "source": [
    "def decode_token(token):\n",
    "    token_to_text = tokenizer.decode(token[\"input_ids\"])\n",
    "    return token_to_text\n"
   ]
  },
  {
   "cell_type": "code",
   "execution_count": 23,
   "metadata": {},
   "outputs": [
    {
     "name": "stdout",
     "output_type": "stream",
     "text": [
      "I didn't feel comfortable leaving my belongings unattended in the Airbnb due to inadequate security. \n",
      "{'input_ids': [101, 151, 30557, 112, 162, 23333, 66493, 13356, 20105, 11153, 49909, 10107, 10155, 23708, 20298, 10104, 10103, 11140, 10417, 55216, 10875, 10114, 20150, 10282, 61420, 15636, 119, 102], 'token_type_ids': [0, 0, 0, 0, 0, 0, 0, 0, 0, 0, 0, 0, 0, 0, 0, 0, 0, 0, 0, 0, 0, 0, 0, 0, 0, 0, 0, 0], 'attention_mask': [1, 1, 1, 1, 1, 1, 1, 1, 1, 1, 1, 1, 1, 1, 1, 1, 1, 1, 1, 1, 1, 1, 1, 1, 1, 1, 1, 1]}\n",
      "[CLS] i didn't feel comfortable leaving my belongings unattended in the airbnb due to inadequate security. [SEP]\n",
      "------------------\n",
      "The neighborhood had a reputation for thefts, affecting my peace of mind. \n",
      "{'input_ids': [101, 10103, 32240, 10407, 143, 31514, 10139, 49601, 10107, 117, 56365, 10285, 11153, 16534, 10108, 15849, 119, 102], 'token_type_ids': [0, 0, 0, 0, 0, 0, 0, 0, 0, 0, 0, 0, 0, 0, 0, 0, 0, 0], 'attention_mask': [1, 1, 1, 1, 1, 1, 1, 1, 1, 1, 1, 1, 1, 1, 1, 1, 1, 1]}\n",
      "[CLS] the neighborhood had a reputation for thefts, affecting my peace of mind. [SEP]\n",
      "------------------\n",
      "Today is a heat wave warning.\n",
      "{'input_ids': [101, 13980, 10127, 143, 20658, 21560, 39983, 119, 102], 'token_type_ids': [0, 0, 0, 0, 0, 0, 0, 0, 0], 'attention_mask': [1, 1, 1, 1, 1, 1, 1, 1, 1]}\n",
      "[CLS] today is a heat wave warning. [SEP]\n",
      "------------------\n",
      "How beautiful the back of a person who knows when to go is!\n",
      "{'input_ids': [101, 12548, 20524, 10103, 11677, 10108, 143, 14150, 10488, 45864, 10704, 10114, 11335, 10127, 106, 102], 'token_type_ids': [0, 0, 0, 0, 0, 0, 0, 0, 0, 0, 0, 0, 0, 0, 0, 0], 'attention_mask': [1, 1, 1, 1, 1, 1, 1, 1, 1, 1, 1, 1, 1, 1, 1, 1]}\n",
      "[CLS] how beautiful the back of a person who knows when to go is! [SEP]\n",
      "------------------\n"
     ]
    }
   ],
   "source": [
    "for text in [text_128, text_256, text_custom_1, text_custom_2]:\n",
    "    print(text)\n",
    "    text_to_token = tokenize_text(text)\n",
    "    print(text_to_token)\n",
    "    token_to_text = decode_token(text_to_token)\n",
    "    print(token_to_text)\n",
    "    print('------------------')"
   ]
  }
 ],
 "metadata": {
  "kernelspec": {
   "display_name": "mlcl",
   "language": "python",
   "name": "python3"
  },
  "language_info": {
   "codemirror_mode": {
    "name": "ipython",
    "version": 3
   },
   "file_extension": ".py",
   "mimetype": "text/x-python",
   "name": "python",
   "nbconvert_exporter": "python",
   "pygments_lexer": "ipython3",
   "version": "3.8.16"
  },
  "orig_nbformat": 4
 },
 "nbformat": 4,
 "nbformat_minor": 2
}
