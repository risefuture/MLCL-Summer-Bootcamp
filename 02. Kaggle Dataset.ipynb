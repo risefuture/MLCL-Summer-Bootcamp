{
 "cells": [
  {
   "attachments": {},
   "cell_type": "markdown",
   "metadata": {},
   "source": [
    "MLCL Summer Bootcamp\n",
    "=="
   ]
  },
  {
   "attachments": {},
   "cell_type": "markdown",
   "metadata": {},
   "source": [
    "Kaggle Dataset\n",
    "--"
   ]
  },
  {
   "attachments": {},
   "cell_type": "markdown",
   "metadata": {},
   "source": [
    "* Kaggle\n",
    ">  -  kaggle log-in\n",
    ">  - settings\n",
    ">  - Create New Token\n",
    ">>  - kaggle.json 다운로드 완료\n",
    ">>> - cmd 창에서 cd Downloads\n",
    ">>> - dir (kaggle.json 확인)\n",
    "\n",
    ">>>>  - C:\\Users\\김나형\\Downloads>dir /s /b |find /i \"kaggle.json\"\n",
    ">>>>  - C:\\Users\\김나형\\Downloads\\kaggle.json\n",
    "\n",
    ">>>  - kaggle.json 파일 이동\n",
    ">>>  - scp -P \"Port\" \"Path\" \"ID\"@\"IP\":/home/\"USER\"/.kaggle/\n",
    ">>>>  - scp -P ***** kaggle.json knh@155.230.134.43:/NasData/home/knh/.kaggle/\n",
    ">>>>  - kaggle.json                                                                           100%   67    41.5KB/s   00:00\n",
    "\n",
    ">>  - cmd 창에서 ssh knh@155.230.134.43 -p *****\n",
    ">>  - pip install kaggle\n",
    ">>  - kaggle 디렉토리 생성\n",
    "\n",
    ">  - mkdir review\n",
    ">  - cd review\n",
    ">  - mkdir data\n",
    ">  - cd data"
   ]
  },
  {
   "attachments": {},
   "cell_type": "markdown",
   "metadata": {},
   "source": [
    "* Download Dataset\n",
    "\n",
    ">  - Korea Natural Gas Sales with Temperature\n",
    ">  - Headgear 20 classes-Image Classification\n",
    ">  - Airbnb Reviews: Wanderers' Delight & Stays!\n",
    "\n",
    ">>  - Copy API command\n",
    ">>>  - data 디렉토리로 이동 뒤, copy 명령어 입력"
   ]
  },
  {
   "attachments": {},
   "cell_type": "markdown",
   "metadata": {},
   "source": [
    ">>>>  - Warning: Your Kaggle API key is readable by other users on this system! 401 - Unauthorized 에러 발생"
   ]
  }
 ],
 "metadata": {
  "kernelspec": {
   "display_name": "mlcl",
   "language": "python",
   "name": "python3"
  },
  "language_info": {
   "name": "python",
   "version": "3.8.16"
  },
  "orig_nbformat": 4
 },
 "nbformat": 4,
 "nbformat_minor": 2
}
