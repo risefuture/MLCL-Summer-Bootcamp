{
 "cells": [
  {
   "attachments": {},
   "cell_type": "markdown",
   "metadata": {},
   "source": [
    "MLCL Summer Bootcamp\n",
    "=="
   ]
  },
  {
   "attachments": {},
   "cell_type": "markdown",
   "metadata": {},
   "source": [
    "Kaggle Dataset\n",
    "--"
   ]
  },
  {
   "attachments": {},
   "cell_type": "markdown",
   "metadata": {},
   "source": [
    "* Kaggle\n",
    ">  -  kaggle log-in\n",
    ">  - settings\n",
    ">  - Create New Token\n",
    ">>  - kaggle.json 다운로드 완료\n",
    ">>> - cmd 창에서 cd Downloads\n",
    ">>> - dir (kaggle.json 확인)\n",
    "\n",
    ">>>>  - C:\\Users\\김나형\\Downloads>dir /s /b |find /i \"kaggle.json\"\n",
    ">>>>  - C:\\Users\\김나형\\Downloads\\kaggle.json\n",
    "\n",
    ">>>  - kaggle.json 파일 이동\n",
    ">>>  - scp -P \"Port\" \"Path\" \"ID\"@\"IP\":/home/\"USER\"/.kaggle/\n",
    ">>>>  - scp -P ***** kaggle.json knh@155.230.134.43:/NasData/home/knh/.kaggle/\n",
    ">>>>  - kaggle.json                                                                           100%   67    41.5KB/s   00:00\n",
    "\n",
    ">>  - cmd 창에서 ssh knh@155.230.134.43 -p *****\n",
    ">>  - pip install kaggle\n",
    ">>  - kaggle 디렉토리 생성\n",
    "\n",
    ">  - mkdir review\n",
    ">  - cd review\n",
    ">  - mkdir data\n",
    ">  - cd data"
   ]
  },
  {
   "attachments": {},
   "cell_type": "markdown",
   "metadata": {},
   "source": [
    "* Download Dataset\n",
    "\n",
    ">  - Korea Natural Gas Sales with Temperature\n",
    ">  - Headgear 20 classes-Image Classification\n",
    ">  - Airbnb Reviews: Wanderers' Delight & Stays!\n",
    "\n",
    ">>  - Copy API command\n",
    ">>>  - data 디렉토리로 이동 뒤, copy 명령어 입력"
   ]
  },
  {
   "attachments": {},
   "cell_type": "markdown",
   "metadata": {},
   "source": [
    ">>>>  - Warning: Your Kaggle API key is readable by other users on this system! 401 Unauthorized 에러 발생\n",
    ">>>>>  - 해결 : 가장 최신의 kaggle.json 파일을 사용해야 함 "
   ]
  },
  {
   "attachments": {},
   "cell_type": "markdown",
   "metadata": {},
   "source": [
    ">>>  - review 디렉토리 안 data 디렉토리에 다운로드 완료"
   ]
  },
  {
   "cell_type": "code",
   "execution_count": null,
   "metadata": {},
   "outputs": [],
   "source": [
    "'''\n",
    "\n",
    "(base) knh@gnode5:~/review/data$ kaggle datasets download -d zxtzxt30/korea-monthly-gas-sales-with-temperature\n",
    "\n",
    "Downloading korea-monthly-gas-sales-with-temperature.zip to /NasData/home/knh/review/data\n",
    "  0%|                                                                                       | 0.00/15.2k [00:00<?, ?B/s]\n",
    "100%|██████████████████████████████████████████████████████████████████████████████| 15.2k/15.2k [00:00<00:00, 6.22MB/s]\n",
    "(base) knh@gnode5:~/review/data$ kaggle datasets download -d gpiosenka/headgear-image-classification\n",
    "\n",
    "Downloading headgear-image-classification.zip to /NasData/home/knh/review/data\n",
    "100%|███████████████████████████████████████████████████████████████████████████████▌| 113M/114M [00:07<00:00, 24.3MB/s]100%|████████████████████████████████████████████████████████████████████████████████| 114M/114M [00:08<00:00, 14.9MB/s]\n",
    "(base) knh@gnode5:~/review/data$ kaggle datasets download -d omarsobhy14/airbnbreviews\n",
    "\n",
    "Downloading airbnbreviews.zip to /NasData/home/knh/review/data\n",
    "  0%|                                                                                       | 0.00/6.46k [00:00<?, ?B/s]\n",
    "100%|██████████████████████████████████████████████████████████████████████████████| 6.46k/6.46k [00:00<00:00, 3.08MB/s]\n",
    "\n",
    "'''\n"
   ]
  },
  {
   "attachments": {},
   "cell_type": "markdown",
   "metadata": {},
   "source": [
    ">>>  - Clone this repository\n",
    ">>>>  - git clone https://github.com/Do-sensei/MLCL_2023.git: Clone this repository in 'review' directory"
   ]
  },
  {
   "cell_type": "code",
   "execution_count": null,
   "metadata": {},
   "outputs": [],
   "source": [
    "'''\n",
    "\n",
    "(base) knh@gnode5:~/review/data$ git clone https://github.com/Do-sensei/MLCL_2023.git\n",
    "Cloning into 'MLCL_2023'...\n",
    "remote: Enumerating objects: 127, done.\n",
    "remote: Counting objects: 100% (127/127), done.\n",
    "remote: Compressing objects: 100% (86/86), done.\n",
    "remote: Total 127 (delta 49), reused 108 (delta 35), pack-reused 0\n",
    "Receiving objects: 100% (127/127), 410.34 KiB | 1.10 MiB/s, done.\n",
    "Resolving deltas: 100% (49/49), done.\n",
    "\n",
    "'''"
   ]
  },
  {
   "attachments": {},
   "cell_type": "markdown",
   "metadata": {},
   "source": [
    ">>>  - Generate Directory Structure For Kaggle Dataset"
   ]
  },
  {
   "cell_type": "code",
   "execution_count": null,
   "metadata": {},
   "outputs": [],
   "source": [
    "'''\n",
    "\n",
    "(base) knh@gnode5:~/review/data$ mkdir k-gas\n",
    "\n",
    "(base) knh@gnode5:~/review/data$ mkdir headgear\n",
    "\n",
    "(base) knh@gnode5:~/review/data$ mkdir airb\n",
    "\n",
    "'''"
   ]
  },
  {
   "attachments": {},
   "cell_type": "markdown",
   "metadata": {},
   "source": [
    ">>>  - Unzip Dataset\n",
    "\n",
    ">>>>  - zip 파일 이름 바꿔주기\n",
    ">>>>>  - airbnbreviews.zip 를 airb.zip 으로\n",
    ">>>>>  - headgear-image-classification.zip 를 headgear.zip\n",
    ">>>>>  - korea-monthly-gas-sales-with-temperature.zip 를 k-gas.zip\n",
    "\n",
    ">>>>  - Unzip 실행"
   ]
  },
  {
   "cell_type": "code",
   "execution_count": null,
   "metadata": {},
   "outputs": [],
   "source": [
    "'''\n",
    "\n",
    "(base) knh@gnode5:~/review/data$ unzip k-gas.zip -d k-gas\n",
    "Archive:  k-gas.zip\n",
    "  inflating: k-gas/Gas sales with temperature.csv\n",
    "\n",
    "(base) knh@gnode5:~/review/data$ unzip headgear.zip -d headgear\n",
    "Archive:  headgear.zip\n",
    "  inflating: headgear/headgear-20-(224 X 224)- 98.99.h5\n",
    "  inflating: headgear/headgear.csv.csv\n",
    "  ...\n",
    "  \n",
    "(base) knh@gnode5:~/review/data$ unzip airb.zip -d airb\n",
    "Archive:  airb.zip\n",
    "  inflating: airb/AirBNBReviews.csv\n",
    "\n",
    "'''"
   ]
  },
  {
   "attachments": {},
   "cell_type": "markdown",
   "metadata": {},
   "source": [
    ">>> - Check Dataset"
   ]
  },
  {
   "cell_type": "code",
   "execution_count": null,
   "metadata": {},
   "outputs": [],
   "source": [
    "'''\n",
    "\n",
    "(base) knh@gnode5:~/review/data$ ls\n",
    "\n",
    "MLCL_2023  airb  airb.zip  headgear  headgear.zip  k-gas  k-gas.zip\n",
    "\n",
    "(base) knh@gnode5:~/review/data$ cd k-gas\n",
    "\n",
    "(base) knh@gnode5:~/review/data/k-gas$ ls\n",
    "\n",
    "'Gas sales with temperature.csv'\n",
    "\n",
    "(base) knh@gnode5:~/review/data/k-gas$ cd ..\n",
    "\n",
    "(base) knh@gnode5:~/review/data$ cd headgear\n",
    "\n",
    "(base) knh@gnode5:~/review/data/headgear$ ls\n",
    "\n",
    "'headgear-20-(224 X 224)- 98.99.h5'   headgear.csv.csv   test   train   valid\n",
    "\n",
    "(base) knh@gnode5:~/review/data/headgear$ cd ..\n",
    "\n",
    "(base) knh@gnode5:~/review/data$ ls\n",
    "\n",
    "MLCL_2023  airb  airb.zip  headgear  headgear.zip  k-gas  k-gas.zip\n",
    "\n",
    "(base) knh@gnode5:~/review/data$ cd airb\n",
    "\n",
    "(base) knh@gnode5:~/review/data/airb$ ls\n",
    "\n",
    "AirBNBReviews.csv\n",
    "\n",
    "'''"
   ]
  },
  {
   "attachments": {},
   "cell_type": "markdown",
   "metadata": {},
   "source": [
    ">>>  - Rename csv file"
   ]
  },
  {
   "cell_type": "code",
   "execution_count": null,
   "metadata": {},
   "outputs": [],
   "source": [
    "'''\n",
    "\n",
    "(base) knh@gnode5:~/review/data$ ls\n",
    "\n",
    "MLCL_2023  airb  airb.zip  headgear  headgear.zip  k-gas  k-gas.zip\n",
    "\n",
    "(base) knh@gnode5:~/review/data$ cd headgear\n",
    "\n",
    "(base) knh@gnode5:~/review/data/headgear$ mv headgear.csv.csv headgear.csv\n",
    "\n",
    "(base) knh@gnode5:~/review/data/headgear$ ls\n",
    "\n",
    "'headgear-20-(224 X 224)- 98.99.h5'   headgear.csv   test   train   valid\n",
    "\n",
    "'''"
   ]
  },
  {
   "attachments": {},
   "cell_type": "markdown",
   "metadata": {},
   "source": [
    ">>>  - Make environment"
   ]
  },
  {
   "attachments": {},
   "cell_type": "markdown",
   "metadata": {},
   "source": [
    ">>>>  - Tmux\n",
    ">>>>>  - tmux new -s review\n",
    ">>>>>  - tumx a -t review\n",
    "\n",
    ">>>>  - Anaconda\n",
    ">>>>>  - conda create -n review python=3.8\n",
    ">>>>>  - conda activate review\n",
    "\n",
    ">>>>  - Install Packages\n",
    ">>>>>  - conda install Ipykernel\n",
    ">>>>>  - conda install \"Package Name\"\n",
    ">>>>>  - pip3 install \"Package Name\""
   ]
  }
 ],
 "metadata": {
  "kernelspec": {
   "display_name": "mlcl",
   "language": "python",
   "name": "python3"
  },
  "language_info": {
   "name": "python",
   "version": "3.8.16"
  },
  "orig_nbformat": 4
 },
 "nbformat": 4,
 "nbformat_minor": 2
}
