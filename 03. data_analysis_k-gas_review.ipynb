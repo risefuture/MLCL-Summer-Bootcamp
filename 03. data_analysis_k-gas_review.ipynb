{
 "cells": [
  {
   "cell_type": "code",
   "execution_count": 1,
   "metadata": {},
   "outputs": [],
   "source": [
    "import pandas as pd # 관계형 또는 레이블이 된 데이터로 쉽고 직관적으로 작업할 수 있도록 설계. 빠르고, 유연한 데이터 구조를 제공하는 Python 패키지\n",
    "import os # 운영체제. 메모리, CPU 등 컴퓨터 하드웨어의 resource를 관리하는 소프트웨어의 집합체. 유저, application programs과 하드웨어 사이의 interface 역할"
   ]
  },
  {
   "attachments": {},
   "cell_type": "markdown",
   "metadata": {},
   "source": [
    "1. Data Load\n",
    ">  - setting the data path\n",
    ">  - load the data with pandas"
   ]
  },
  {
   "cell_type": "code",
   "execution_count": 2,
   "metadata": {},
   "outputs": [],
   "source": [
    "data_dir = '/NasData/home/knh/review/data'\n",
    "\n",
    "k_gas_dir = os.path.join(data_dir, 'k-gas') # k-gas data directory\n",
    "\n",
    "k_gas_df = pd.read_csv(os.path.join(k_gas_dir, 'Gas sales with temperature.csv'))"
   ]
  },
  {
   "attachments": {},
   "cell_type": "markdown",
   "metadata": {},
   "source": [
    "2. Data Analysis\n",
    ">  - Check the data"
   ]
  },
  {
   "cell_type": "code",
   "execution_count": 3,
   "metadata": {},
   "outputs": [
    {
     "name": "stdout",
     "output_type": "stream",
     "text": [
      "     Year  Month  Temperature  Gangwondo   Seoul  Gyeonggido  Incheon  \\\n",
      "0    2000      1        -1.20      16219  662424      363014   139454   \n",
      "1    2000      2        -0.99      16280  689177      375937   145834   \n",
      "2    2000      3         6.64      14105  566528      323145   121324   \n",
      "3    2000      4        12.11      10364  396231      237437    91421   \n",
      "4    2000      5        17.59       6843  262940      169495    67239   \n",
      "..    ...    ...          ...        ...     ...         ...      ...   \n",
      "247  2020      8        27.00      19076  163032      255222    70646   \n",
      "248  2020      9        21.40      18822  147556      243817    72542   \n",
      "249  2020     10        14.90      25946  213556      339823    78654   \n",
      "250  2020     11         9.00      35632  375289      497221   115663   \n",
      "251  2020     12         0.80      57301  636178      742863   179536   \n",
      "\n",
      "     Gyeongsangnamdo  Gyeongsangbukdo  Gwangju  ...  Daejeon   Busan  Sejong  \\\n",
      "0              42129            55362    39465  ...    52992   85787       0   \n",
      "1              42604            52863    40674  ...    53950   87282       0   \n",
      "2              35990            47282    34610  ...    41898   74476       0   \n",
      "3              28698            40393    25898  ...    28618   58316       0   \n",
      "4              21073            35083    18426  ...    17503   45915       0   \n",
      "..               ...              ...      ...  ...      ...     ...     ...   \n",
      "247            60523            84646    27561  ...    31906   70508    5599   \n",
      "248            65264            88652    28120  ...    30307   70849    6069   \n",
      "249            75071           103757    39428  ...    42001   85283   10268   \n",
      "250           101609           135432    58120  ...    69624  122943   12087   \n",
      "251           149527           183273    94589  ...   110897  200163   11875   \n",
      "\n",
      "      Ulsan  Jeollanamdo  Jeollabukdo  Jeju  Chungcheongnamdo  \\\n",
      "0     69241        22508        34507     0             20158   \n",
      "1     70910        22310        33784     0             23492   \n",
      "2     63627        18033        29315     0             21156   \n",
      "3     47106        15920        19783     0             17447   \n",
      "4     43749        13808        14375     0             14508   \n",
      "..      ...          ...          ...   ...               ...   \n",
      "247   94251        49039        43885  1506             70181   \n",
      "248  101433        54253        48190  1179             86971   \n",
      "249  119332        60416        61328  1414            109095   \n",
      "250  147792        68793        82360  2161            142556   \n",
      "251  221037        97863       113880  4220            198939   \n",
      "\n",
      "     Chungcheongbukdo      Sum  \n",
      "0               27838  1717175  \n",
      "1               27175  1766341  \n",
      "2               22904  1490537  \n",
      "3               16818  1096964  \n",
      "4               12299   790248  \n",
      "..                ...      ...  \n",
      "247             49460  1142099  \n",
      "248             53589  1160655  \n",
      "249             61315  1471242  \n",
      "250             82499  2116835  \n",
      "251            114597  3217877  \n",
      "\n",
      "[252 rows x 21 columns]\n"
     ]
    }
   ],
   "source": [
    "# Show the data\n",
    "\n",
    "print(k_gas_df) "
   ]
  },
  {
   "cell_type": "code",
   "execution_count": 4,
   "metadata": {},
   "outputs": [
    {
     "name": "stdout",
     "output_type": "stream",
     "text": [
      "   Year  Month  Temperature  Gangwondo   Seoul  Gyeonggido  Incheon  \\\n",
      "0  2000      1        -1.20      16219  662424      363014   139454   \n",
      "1  2000      2        -0.99      16280  689177      375937   145834   \n",
      "2  2000      3         6.64      14105  566528      323145   121324   \n",
      "3  2000      4        12.11      10364  396231      237437    91421   \n",
      "4  2000      5        17.59       6843  262940      169495    67239   \n",
      "\n",
      "   Gyeongsangnamdo  Gyeongsangbukdo  Gwangju  ...  Daejeon  Busan  Sejong  \\\n",
      "0            42129            55362    39465  ...    52992  85787       0   \n",
      "1            42604            52863    40674  ...    53950  87282       0   \n",
      "2            35990            47282    34610  ...    41898  74476       0   \n",
      "3            28698            40393    25898  ...    28618  58316       0   \n",
      "4            21073            35083    18426  ...    17503  45915       0   \n",
      "\n",
      "   Ulsan  Jeollanamdo  Jeollabukdo  Jeju  Chungcheongnamdo  Chungcheongbukdo  \\\n",
      "0  69241        22508        34507     0             20158             27838   \n",
      "1  70910        22310        33784     0             23492             27175   \n",
      "2  63627        18033        29315     0             21156             22904   \n",
      "3  47106        15920        19783     0             17447             16818   \n",
      "4  43749        13808        14375     0             14508             12299   \n",
      "\n",
      "       Sum  \n",
      "0  1717175  \n",
      "1  1766341  \n",
      "2  1490537  \n",
      "3  1096964  \n",
      "4   790248  \n",
      "\n",
      "[5 rows x 21 columns]\n"
     ]
    }
   ],
   "source": [
    "# Show the first 5 rows\n",
    "\n",
    "print(k_gas_df.head())"
   ]
  },
  {
   "cell_type": "code",
   "execution_count": 5,
   "metadata": {},
   "outputs": [
    {
     "name": "stdout",
     "output_type": "stream",
     "text": [
      "Index(['Year', 'Month', 'Temperature', 'Gangwondo', 'Seoul', 'Gyeonggido',\n",
      "       'Incheon', 'Gyeongsangnamdo', 'Gyeongsangbukdo', 'Gwangju', 'Daegu',\n",
      "       'Daejeon', 'Busan', 'Sejong', 'Ulsan', 'Jeollanamdo', 'Jeollabukdo',\n",
      "       'Jeju', 'Chungcheongnamdo', 'Chungcheongbukdo', 'Sum'],\n",
      "      dtype='object')\n"
     ]
    }
   ],
   "source": [
    "# Show the column names\n",
    "\n",
    "print(k_gas_df.columns)"
   ]
  },
  {
   "cell_type": "code",
   "execution_count": 6,
   "metadata": {},
   "outputs": [
    {
     "name": "stdout",
     "output_type": "stream",
     "text": [
      "<class 'pandas.core.frame.DataFrame'>\n",
      "RangeIndex: 252 entries, 0 to 251\n",
      "Data columns (total 21 columns):\n",
      " #   Column            Non-Null Count  Dtype  \n",
      "---  ------            --------------  -----  \n",
      " 0   Year              252 non-null    int64  \n",
      " 1   Month             252 non-null    int64  \n",
      " 2   Temperature       252 non-null    float64\n",
      " 3   Gangwondo         252 non-null    int64  \n",
      " 4   Seoul             252 non-null    int64  \n",
      " 5   Gyeonggido        252 non-null    int64  \n",
      " 6   Incheon           252 non-null    int64  \n",
      " 7   Gyeongsangnamdo   252 non-null    int64  \n",
      " 8   Gyeongsangbukdo   252 non-null    int64  \n",
      " 9   Gwangju           252 non-null    int64  \n",
      " 10  Daegu             252 non-null    int64  \n",
      " 11  Daejeon           252 non-null    int64  \n",
      " 12  Busan             252 non-null    int64  \n",
      " 13  Sejong            252 non-null    int64  \n",
      " 14  Ulsan             252 non-null    int64  \n",
      " 15  Jeollanamdo       252 non-null    int64  \n",
      " 16  Jeollabukdo       252 non-null    int64  \n",
      " 17  Jeju              252 non-null    int64  \n",
      " 18  Chungcheongnamdo  252 non-null    int64  \n",
      " 19  Chungcheongbukdo  252 non-null    int64  \n",
      " 20  Sum               252 non-null    int64  \n",
      "dtypes: float64(1), int64(20)\n",
      "memory usage: 41.5 KB\n",
      "None\n"
     ]
    }
   ],
   "source": [
    "# Show the summary information\n",
    "\n",
    "print(k_gas_df.info())\n",
    "\n",
    "# Non-Null Count : 결측치(Missing Value)가 아닌 데이터의 갯수\n",
    "\n",
    "# 결측치를 모두 제거하면, 데이터 손실이 일어날 수 있음\n",
    "# 결측치를 잘 못 대체하면, 데이터 편향이 생길 수 있음"
   ]
  },
  {
   "cell_type": "code",
   "execution_count": 7,
   "metadata": {},
   "outputs": [
    {
     "name": "stdout",
     "output_type": "stream",
     "text": [
      "   Year  Month  Temperature  Gangwondo   Seoul  Gyeonggido  Incheon  \\\n",
      "0  2000      1        -1.20      16219  662424      363014   139454   \n",
      "1  2000      2        -0.99      16280  689177      375937   145834   \n",
      "2  2000      3         6.64      14105  566528      323145   121324   \n",
      "\n",
      "   Gyeongsangnamdo  Gyeongsangbukdo  Gwangju  ...  Daejeon  Busan  Sejong  \\\n",
      "0            42129            55362    39465  ...    52992  85787       0   \n",
      "1            42604            52863    40674  ...    53950  87282       0   \n",
      "2            35990            47282    34610  ...    41898  74476       0   \n",
      "\n",
      "   Ulsan  Jeollanamdo  Jeollabukdo  Jeju  Chungcheongnamdo  Chungcheongbukdo  \\\n",
      "0  69241        22508        34507     0             20158             27838   \n",
      "1  70910        22310        33784     0             23492             27175   \n",
      "2  63627        18033        29315     0             21156             22904   \n",
      "\n",
      "       Sum  \n",
      "0  1717175  \n",
      "1  1766341  \n",
      "2  1490537  \n",
      "\n",
      "[3 rows x 21 columns]\n"
     ]
    }
   ],
   "source": [
    "print(k_gas_df.loc[0:2])"
   ]
  },
  {
   "cell_type": "code",
   "execution_count": 8,
   "metadata": {},
   "outputs": [
    {
     "name": "stdout",
     "output_type": "stream",
     "text": [
      "Year                   2000.0\n",
      "Month                     1.0\n",
      "Temperature              -1.2\n",
      "Gangwondo             16219.0\n",
      "Seoul                662424.0\n",
      "Gyeonggido           363014.0\n",
      "Incheon              139454.0\n",
      "Gyeongsangnamdo       42129.0\n",
      "Gyeongsangbukdo       55362.0\n",
      "Gwangju               39465.0\n",
      "Daegu                 86077.0\n",
      "Daejeon               52992.0\n",
      "Busan                 85787.0\n",
      "Sejong                    0.0\n",
      "Ulsan                 69241.0\n",
      "Jeollanamdo           22508.0\n",
      "Jeollabukdo           34507.0\n",
      "Jeju                      0.0\n",
      "Chungcheongnamdo      20158.0\n",
      "Chungcheongbukdo      27838.0\n",
      "Sum                 1717175.0\n",
      "Name: 0, dtype: float64\n"
     ]
    }
   ],
   "source": [
    "print(k_gas_df.loc[0])"
   ]
  },
  {
   "attachments": {},
   "cell_type": "markdown",
   "metadata": {},
   "source": [
    ">  - Plot the data\n",
    "\n",
    ">>  - Plot the data with matplotlib\n",
    ">>>  - Plot the data\n",
    ">>>  - Plot the label"
   ]
  },
  {
   "cell_type": "code",
   "execution_count": 9,
   "metadata": {},
   "outputs": [],
   "source": [
    "import matplotlib.pyplot as plt"
   ]
  },
  {
   "attachments": {},
   "cell_type": "markdown",
   "metadata": {},
   "source": [
    ">>  - Add the column month by year for plotting"
   ]
  },
  {
   "cell_type": "code",
   "execution_count": 10,
   "metadata": {},
   "outputs": [
    {
     "data": {
      "text/plain": [
       "0      2000\n",
       "1      2000\n",
       "2      2000\n",
       "3      2000\n",
       "4      2000\n",
       "       ... \n",
       "247    2020\n",
       "248    2020\n",
       "249    2020\n",
       "250    2020\n",
       "251    2020\n",
       "Name: Year, Length: 252, dtype: int64"
      ]
     },
     "execution_count": 10,
     "metadata": {},
     "output_type": "execute_result"
    }
   ],
   "source": [
    "k_gas_df['Year']"
   ]
  },
  {
   "cell_type": "code",
   "execution_count": 11,
   "metadata": {},
   "outputs": [
    {
     "data": {
      "text/plain": [
       "0       1\n",
       "1       2\n",
       "2       3\n",
       "3       4\n",
       "4       5\n",
       "       ..\n",
       "247     8\n",
       "248     9\n",
       "249    10\n",
       "250    11\n",
       "251    12\n",
       "Name: Month, Length: 252, dtype: int64"
      ]
     },
     "execution_count": 11,
     "metadata": {},
     "output_type": "execute_result"
    }
   ],
   "source": [
    "k_gas_df['Month']"
   ]
  },
  {
   "cell_type": "code",
   "execution_count": 12,
   "metadata": {},
   "outputs": [
    {
     "data": {
      "text/plain": [
       "0      2000\n",
       "1      2000\n",
       "2      2000\n",
       "3      2000\n",
       "4      2000\n",
       "       ... \n",
       "247    2020\n",
       "248    2020\n",
       "249    2020\n",
       "250    2020\n",
       "251    2020\n",
       "Name: Year, Length: 252, dtype: object"
      ]
     },
     "execution_count": 12,
     "metadata": {},
     "output_type": "execute_result"
    }
   ],
   "source": [
    "k_gas_df['Year'].astype(str)"
   ]
  },
  {
   "cell_type": "code",
   "execution_count": 13,
   "metadata": {},
   "outputs": [
    {
     "data": {
      "text/plain": [
       "0       1\n",
       "1       2\n",
       "2       3\n",
       "3       4\n",
       "4       5\n",
       "       ..\n",
       "247     8\n",
       "248     9\n",
       "249    10\n",
       "250    11\n",
       "251    12\n",
       "Name: Month, Length: 252, dtype: object"
      ]
     },
     "execution_count": 13,
     "metadata": {},
     "output_type": "execute_result"
    }
   ],
   "source": [
    "k_gas_df['Month'].astype(str)"
   ]
  },
  {
   "cell_type": "code",
   "execution_count": 14,
   "metadata": {},
   "outputs": [],
   "source": [
    "k_gas_df['Year-Month'] = k_gas_df['Year'].astype(str) + '-' + k_gas_df['Month'].astype(str)\n",
    "\n",
    "# astype(str)은 column을 문자열(object) 형태로 변환"
   ]
  },
  {
   "cell_type": "code",
   "execution_count": 15,
   "metadata": {},
   "outputs": [
    {
     "data": {
      "text/plain": [
       "0       2000-1\n",
       "1       2000-2\n",
       "2       2000-3\n",
       "3       2000-4\n",
       "4       2000-5\n",
       "        ...   \n",
       "247     2020-8\n",
       "248     2020-9\n",
       "249    2020-10\n",
       "250    2020-11\n",
       "251    2020-12\n",
       "Name: Year-Month, Length: 252, dtype: object"
      ]
     },
     "execution_count": 15,
     "metadata": {},
     "output_type": "execute_result"
    }
   ],
   "source": [
    "k_gas_df['Year-Month']"
   ]
  },
  {
   "attachments": {},
   "cell_type": "markdown",
   "metadata": {},
   "source": [
    ">>  - Plot the temperature\n"
   ]
  },
  {
   "cell_type": "code",
   "execution_count": 16,
   "metadata": {},
   "outputs": [],
   "source": [
    "k_gas_df['Year-Month'] = pd.to_datetime(k_gas_df['Year-Month']) \n",
    "\n",
    "# dtype: object 즉, object 문자열 형태로 자료형이 지정\n",
    "# pd.to_datetime() 은 string에서 datetime으로 자료형을 변환"
   ]
  },
  {
   "cell_type": "code",
   "execution_count": 17,
   "metadata": {},
   "outputs": [
    {
     "data": {
      "text/plain": [
       "0     2000-01-01\n",
       "1     2000-02-01\n",
       "2     2000-03-01\n",
       "3     2000-04-01\n",
       "4     2000-05-01\n",
       "         ...    \n",
       "247   2020-08-01\n",
       "248   2020-09-01\n",
       "249   2020-10-01\n",
       "250   2020-11-01\n",
       "251   2020-12-01\n",
       "Name: Year-Month, Length: 252, dtype: datetime64[ns]"
      ]
     },
     "execution_count": 17,
     "metadata": {},
     "output_type": "execute_result"
    }
   ],
   "source": [
    "k_gas_df['Year-Month']"
   ]
  },
  {
   "cell_type": "code",
   "execution_count": 18,
   "metadata": {},
   "outputs": [],
   "source": [
    "# k_gas_df['Year-Month'] += pd.DateOffset(months=1)\n",
    "\n",
    "# 날짜와 시간을 더하거나 뺄 때, DateOffset함수 이용\n",
    "\n",
    "# 내용이 밀리는 게 아닌, column 값만 변경됨"
   ]
  },
  {
   "cell_type": "code",
   "execution_count": 19,
   "metadata": {},
   "outputs": [],
   "source": [
    "# k_gas_df['Year-Month']"
   ]
  },
  {
   "cell_type": "code",
   "execution_count": 20,
   "metadata": {},
   "outputs": [
    {
     "data": {
      "text/plain": [
       "\"\\n\\nplt.plot(k_gas_df['Year-Month'], k_gas_df['Temperature'])\\nplt.xlabel('Year-Month')\\nplt.ylabel('Temperature')\\nplt.title('Temperature')\\nplt.xticks(rotation=45)\\n\\nplt.show()\\n\\n\""
      ]
     },
     "execution_count": 20,
     "metadata": {},
     "output_type": "execute_result"
    }
   ],
   "source": [
    "'''\n",
    "\n",
    "plt.plot(k_gas_df['Year-Month'], k_gas_df['Temperature'])\n",
    "plt.xlabel('Year-Month')\n",
    "plt.ylabel('Temperature')\n",
    "plt.title('Temperature')\n",
    "plt.xticks(rotation=45)\n",
    "\n",
    "plt.show()\n",
    "\n",
    "'''"
   ]
  },
  {
   "attachments": {},
   "cell_type": "markdown",
   "metadata": {},
   "source": [
    ">>  - Make the plot temperature in 2019"
   ]
  },
  {
   "cell_type": "code",
   "execution_count": 21,
   "metadata": {},
   "outputs": [],
   "source": [
    "# Convert 'Year-Month' column to datatime format\n",
    "\n",
    "k_gas_df['Year-Month'] = pd.to_datetime(k_gas_df['Year-Month'])"
   ]
  },
  {
   "cell_type": "code",
   "execution_count": 22,
   "metadata": {},
   "outputs": [
    {
     "data": {
      "text/plain": [
       "0     2000-01-01\n",
       "1     2000-02-01\n",
       "2     2000-03-01\n",
       "3     2000-04-01\n",
       "4     2000-05-01\n",
       "         ...    \n",
       "247   2020-08-01\n",
       "248   2020-09-01\n",
       "249   2020-10-01\n",
       "250   2020-11-01\n",
       "251   2020-12-01\n",
       "Name: Year-Month, Length: 252, dtype: datetime64[ns]"
      ]
     },
     "execution_count": 22,
     "metadata": {},
     "output_type": "execute_result"
    }
   ],
   "source": [
    "k_gas_df['Year-Month']"
   ]
  },
  {
   "cell_type": "code",
   "execution_count": 23,
   "metadata": {},
   "outputs": [],
   "source": [
    "# Filter the dataframe for the year 2019\n",
    "\n",
    "k_gas_year = k_gas_df[k_gas_df['Year-Month'].dt.year == 2019]"
   ]
  },
  {
   "cell_type": "code",
   "execution_count": 24,
   "metadata": {},
   "outputs": [
    {
     "data": {
      "text/html": [
       "<div>\n",
       "<style scoped>\n",
       "    .dataframe tbody tr th:only-of-type {\n",
       "        vertical-align: middle;\n",
       "    }\n",
       "\n",
       "    .dataframe tbody tr th {\n",
       "        vertical-align: top;\n",
       "    }\n",
       "\n",
       "    .dataframe thead th {\n",
       "        text-align: right;\n",
       "    }\n",
       "</style>\n",
       "<table border=\"1\" class=\"dataframe\">\n",
       "  <thead>\n",
       "    <tr style=\"text-align: right;\">\n",
       "      <th></th>\n",
       "      <th>Year</th>\n",
       "      <th>Month</th>\n",
       "      <th>Temperature</th>\n",
       "      <th>Gangwondo</th>\n",
       "      <th>Seoul</th>\n",
       "      <th>Gyeonggido</th>\n",
       "      <th>Incheon</th>\n",
       "      <th>Gyeongsangnamdo</th>\n",
       "      <th>Gyeongsangbukdo</th>\n",
       "      <th>Gwangju</th>\n",
       "      <th>...</th>\n",
       "      <th>Busan</th>\n",
       "      <th>Sejong</th>\n",
       "      <th>Ulsan</th>\n",
       "      <th>Jeollanamdo</th>\n",
       "      <th>Jeollabukdo</th>\n",
       "      <th>Jeju</th>\n",
       "      <th>Chungcheongnamdo</th>\n",
       "      <th>Chungcheongbukdo</th>\n",
       "      <th>Sum</th>\n",
       "      <th>Year-Month</th>\n",
       "    </tr>\n",
       "  </thead>\n",
       "  <tbody>\n",
       "    <tr>\n",
       "      <th>228</th>\n",
       "      <td>2019</td>\n",
       "      <td>1</td>\n",
       "      <td>0.35</td>\n",
       "      <td>64031</td>\n",
       "      <td>754822</td>\n",
       "      <td>816518</td>\n",
       "      <td>224628</td>\n",
       "      <td>151007</td>\n",
       "      <td>188792</td>\n",
       "      <td>94441</td>\n",
       "      <td>...</td>\n",
       "      <td>210982</td>\n",
       "      <td>10604</td>\n",
       "      <td>266679</td>\n",
       "      <td>91532</td>\n",
       "      <td>124247</td>\n",
       "      <td>3586</td>\n",
       "      <td>198190</td>\n",
       "      <td>119471</td>\n",
       "      <td>3585488</td>\n",
       "      <td>2019-01-01</td>\n",
       "    </tr>\n",
       "    <tr>\n",
       "      <th>229</th>\n",
       "      <td>2019</td>\n",
       "      <td>2</td>\n",
       "      <td>2.33</td>\n",
       "      <td>57335</td>\n",
       "      <td>662117</td>\n",
       "      <td>674005</td>\n",
       "      <td>193459</td>\n",
       "      <td>134834</td>\n",
       "      <td>156945</td>\n",
       "      <td>78279</td>\n",
       "      <td>...</td>\n",
       "      <td>167223</td>\n",
       "      <td>9477</td>\n",
       "      <td>229291</td>\n",
       "      <td>77767</td>\n",
       "      <td>105399</td>\n",
       "      <td>3048</td>\n",
       "      <td>169249</td>\n",
       "      <td>97249</td>\n",
       "      <td>3049666</td>\n",
       "      <td>2019-02-01</td>\n",
       "    </tr>\n",
       "    <tr>\n",
       "      <th>230</th>\n",
       "      <td>2019</td>\n",
       "      <td>3</td>\n",
       "      <td>7.97</td>\n",
       "      <td>44251</td>\n",
       "      <td>479716</td>\n",
       "      <td>566102</td>\n",
       "      <td>169844</td>\n",
       "      <td>124158</td>\n",
       "      <td>147318</td>\n",
       "      <td>67716</td>\n",
       "      <td>...</td>\n",
       "      <td>144388</td>\n",
       "      <td>9058</td>\n",
       "      <td>241544</td>\n",
       "      <td>68924</td>\n",
       "      <td>91449</td>\n",
       "      <td>2589</td>\n",
       "      <td>153710</td>\n",
       "      <td>88160</td>\n",
       "      <td>2603755</td>\n",
       "      <td>2019-03-01</td>\n",
       "    </tr>\n",
       "    <tr>\n",
       "      <th>231</th>\n",
       "      <td>2019</td>\n",
       "      <td>4</td>\n",
       "      <td>12.58</td>\n",
       "      <td>37240</td>\n",
       "      <td>371517</td>\n",
       "      <td>449495</td>\n",
       "      <td>136980</td>\n",
       "      <td>105551</td>\n",
       "      <td>129122</td>\n",
       "      <td>56687</td>\n",
       "      <td>...</td>\n",
       "      <td>121169</td>\n",
       "      <td>12855</td>\n",
       "      <td>235340</td>\n",
       "      <td>61576</td>\n",
       "      <td>78412</td>\n",
       "      <td>1742</td>\n",
       "      <td>144330</td>\n",
       "      <td>75629</td>\n",
       "      <td>2173669</td>\n",
       "      <td>2019-04-01</td>\n",
       "    </tr>\n",
       "    <tr>\n",
       "      <th>232</th>\n",
       "      <td>2019</td>\n",
       "      <td>5</td>\n",
       "      <td>19.54</td>\n",
       "      <td>25458</td>\n",
       "      <td>227515</td>\n",
       "      <td>312516</td>\n",
       "      <td>100655</td>\n",
       "      <td>87309</td>\n",
       "      <td>112190</td>\n",
       "      <td>35978</td>\n",
       "      <td>...</td>\n",
       "      <td>90821</td>\n",
       "      <td>9750</td>\n",
       "      <td>182645</td>\n",
       "      <td>52249</td>\n",
       "      <td>62286</td>\n",
       "      <td>1275</td>\n",
       "      <td>127917</td>\n",
       "      <td>60017</td>\n",
       "      <td>1601578</td>\n",
       "      <td>2019-05-01</td>\n",
       "    </tr>\n",
       "    <tr>\n",
       "      <th>233</th>\n",
       "      <td>2019</td>\n",
       "      <td>6</td>\n",
       "      <td>22.26</td>\n",
       "      <td>19393</td>\n",
       "      <td>172980</td>\n",
       "      <td>251155</td>\n",
       "      <td>79230</td>\n",
       "      <td>67558</td>\n",
       "      <td>92645</td>\n",
       "      <td>30620</td>\n",
       "      <td>...</td>\n",
       "      <td>79148</td>\n",
       "      <td>8332</td>\n",
       "      <td>182666</td>\n",
       "      <td>47072</td>\n",
       "      <td>52135</td>\n",
       "      <td>1143</td>\n",
       "      <td>103216</td>\n",
       "      <td>51350</td>\n",
       "      <td>1324022</td>\n",
       "      <td>2019-06-01</td>\n",
       "    </tr>\n",
       "    <tr>\n",
       "      <th>234</th>\n",
       "      <td>2019</td>\n",
       "      <td>7</td>\n",
       "      <td>25.57</td>\n",
       "      <td>18474</td>\n",
       "      <td>172649</td>\n",
       "      <td>253612</td>\n",
       "      <td>73632</td>\n",
       "      <td>65362</td>\n",
       "      <td>91122</td>\n",
       "      <td>29962</td>\n",
       "      <td>...</td>\n",
       "      <td>78992</td>\n",
       "      <td>6353</td>\n",
       "      <td>159799</td>\n",
       "      <td>45014</td>\n",
       "      <td>52348</td>\n",
       "      <td>1347</td>\n",
       "      <td>91320</td>\n",
       "      <td>52078</td>\n",
       "      <td>1269691</td>\n",
       "      <td>2019-07-01</td>\n",
       "    </tr>\n",
       "    <tr>\n",
       "      <th>235</th>\n",
       "      <td>2019</td>\n",
       "      <td>8</td>\n",
       "      <td>27.17</td>\n",
       "      <td>18141</td>\n",
       "      <td>160321</td>\n",
       "      <td>245814</td>\n",
       "      <td>70891</td>\n",
       "      <td>59523</td>\n",
       "      <td>87687</td>\n",
       "      <td>27158</td>\n",
       "      <td>...</td>\n",
       "      <td>73847</td>\n",
       "      <td>6280</td>\n",
       "      <td>130443</td>\n",
       "      <td>45830</td>\n",
       "      <td>48518</td>\n",
       "      <td>1509</td>\n",
       "      <td>83579</td>\n",
       "      <td>47703</td>\n",
       "      <td>1182872</td>\n",
       "      <td>2019-08-01</td>\n",
       "    </tr>\n",
       "    <tr>\n",
       "      <th>236</th>\n",
       "      <td>2019</td>\n",
       "      <td>9</td>\n",
       "      <td>22.70</td>\n",
       "      <td>17433</td>\n",
       "      <td>155577</td>\n",
       "      <td>230876</td>\n",
       "      <td>73175</td>\n",
       "      <td>56694</td>\n",
       "      <td>86697</td>\n",
       "      <td>27524</td>\n",
       "      <td>...</td>\n",
       "      <td>73547</td>\n",
       "      <td>5297</td>\n",
       "      <td>138739</td>\n",
       "      <td>44120</td>\n",
       "      <td>49664</td>\n",
       "      <td>1262</td>\n",
       "      <td>79701</td>\n",
       "      <td>48827</td>\n",
       "      <td>1160095</td>\n",
       "      <td>2019-09-01</td>\n",
       "    </tr>\n",
       "    <tr>\n",
       "      <th>237</th>\n",
       "      <td>2019</td>\n",
       "      <td>10</td>\n",
       "      <td>16.82</td>\n",
       "      <td>22461</td>\n",
       "      <td>185075</td>\n",
       "      <td>303799</td>\n",
       "      <td>80336</td>\n",
       "      <td>67652</td>\n",
       "      <td>102971</td>\n",
       "      <td>35496</td>\n",
       "      <td>...</td>\n",
       "      <td>87861</td>\n",
       "      <td>6261</td>\n",
       "      <td>163784</td>\n",
       "      <td>46841</td>\n",
       "      <td>60000</td>\n",
       "      <td>1270</td>\n",
       "      <td>97088</td>\n",
       "      <td>58294</td>\n",
       "      <td>1405517</td>\n",
       "      <td>2019-10-01</td>\n",
       "    </tr>\n",
       "    <tr>\n",
       "      <th>238</th>\n",
       "      <td>2019</td>\n",
       "      <td>11</td>\n",
       "      <td>8.88</td>\n",
       "      <td>35295</td>\n",
       "      <td>364952</td>\n",
       "      <td>479011</td>\n",
       "      <td>122112</td>\n",
       "      <td>85643</td>\n",
       "      <td>129823</td>\n",
       "      <td>56887</td>\n",
       "      <td>...</td>\n",
       "      <td>117687</td>\n",
       "      <td>9411</td>\n",
       "      <td>189757</td>\n",
       "      <td>64823</td>\n",
       "      <td>80472</td>\n",
       "      <td>1923</td>\n",
       "      <td>131265</td>\n",
       "      <td>79029</td>\n",
       "      <td>2078290</td>\n",
       "      <td>2019-11-01</td>\n",
       "    </tr>\n",
       "    <tr>\n",
       "      <th>239</th>\n",
       "      <td>2019</td>\n",
       "      <td>12</td>\n",
       "      <td>2.74</td>\n",
       "      <td>53828</td>\n",
       "      <td>588558</td>\n",
       "      <td>696142</td>\n",
       "      <td>179571</td>\n",
       "      <td>116918</td>\n",
       "      <td>170617</td>\n",
       "      <td>84351</td>\n",
       "      <td>...</td>\n",
       "      <td>182975</td>\n",
       "      <td>10629</td>\n",
       "      <td>224699</td>\n",
       "      <td>81864</td>\n",
       "      <td>103501</td>\n",
       "      <td>3153</td>\n",
       "      <td>171348</td>\n",
       "      <td>104658</td>\n",
       "      <td>2979459</td>\n",
       "      <td>2019-12-01</td>\n",
       "    </tr>\n",
       "  </tbody>\n",
       "</table>\n",
       "<p>12 rows × 22 columns</p>\n",
       "</div>"
      ],
      "text/plain": [
       "     Year  Month  Temperature  Gangwondo   Seoul  Gyeonggido  Incheon  \\\n",
       "228  2019      1         0.35      64031  754822      816518   224628   \n",
       "229  2019      2         2.33      57335  662117      674005   193459   \n",
       "230  2019      3         7.97      44251  479716      566102   169844   \n",
       "231  2019      4        12.58      37240  371517      449495   136980   \n",
       "232  2019      5        19.54      25458  227515      312516   100655   \n",
       "233  2019      6        22.26      19393  172980      251155    79230   \n",
       "234  2019      7        25.57      18474  172649      253612    73632   \n",
       "235  2019      8        27.17      18141  160321      245814    70891   \n",
       "236  2019      9        22.70      17433  155577      230876    73175   \n",
       "237  2019     10        16.82      22461  185075      303799    80336   \n",
       "238  2019     11         8.88      35295  364952      479011   122112   \n",
       "239  2019     12         2.74      53828  588558      696142   179571   \n",
       "\n",
       "     Gyeongsangnamdo  Gyeongsangbukdo  Gwangju  ...   Busan  Sejong   Ulsan  \\\n",
       "228           151007           188792    94441  ...  210982   10604  266679   \n",
       "229           134834           156945    78279  ...  167223    9477  229291   \n",
       "230           124158           147318    67716  ...  144388    9058  241544   \n",
       "231           105551           129122    56687  ...  121169   12855  235340   \n",
       "232            87309           112190    35978  ...   90821    9750  182645   \n",
       "233            67558            92645    30620  ...   79148    8332  182666   \n",
       "234            65362            91122    29962  ...   78992    6353  159799   \n",
       "235            59523            87687    27158  ...   73847    6280  130443   \n",
       "236            56694            86697    27524  ...   73547    5297  138739   \n",
       "237            67652           102971    35496  ...   87861    6261  163784   \n",
       "238            85643           129823    56887  ...  117687    9411  189757   \n",
       "239           116918           170617    84351  ...  182975   10629  224699   \n",
       "\n",
       "     Jeollanamdo  Jeollabukdo  Jeju  Chungcheongnamdo  Chungcheongbukdo  \\\n",
       "228        91532       124247  3586            198190            119471   \n",
       "229        77767       105399  3048            169249             97249   \n",
       "230        68924        91449  2589            153710             88160   \n",
       "231        61576        78412  1742            144330             75629   \n",
       "232        52249        62286  1275            127917             60017   \n",
       "233        47072        52135  1143            103216             51350   \n",
       "234        45014        52348  1347             91320             52078   \n",
       "235        45830        48518  1509             83579             47703   \n",
       "236        44120        49664  1262             79701             48827   \n",
       "237        46841        60000  1270             97088             58294   \n",
       "238        64823        80472  1923            131265             79029   \n",
       "239        81864       103501  3153            171348            104658   \n",
       "\n",
       "         Sum  Year-Month  \n",
       "228  3585488  2019-01-01  \n",
       "229  3049666  2019-02-01  \n",
       "230  2603755  2019-03-01  \n",
       "231  2173669  2019-04-01  \n",
       "232  1601578  2019-05-01  \n",
       "233  1324022  2019-06-01  \n",
       "234  1269691  2019-07-01  \n",
       "235  1182872  2019-08-01  \n",
       "236  1160095  2019-09-01  \n",
       "237  1405517  2019-10-01  \n",
       "238  2078290  2019-11-01  \n",
       "239  2979459  2019-12-01  \n",
       "\n",
       "[12 rows x 22 columns]"
      ]
     },
     "execution_count": 24,
     "metadata": {},
     "output_type": "execute_result"
    }
   ],
   "source": [
    "k_gas_year"
   ]
  },
  {
   "cell_type": "code",
   "execution_count": 25,
   "metadata": {},
   "outputs": [],
   "source": [
    "# Add one month to the 'Year-Month' column\n",
    "\n",
    "# k_gas_year['Year-Month'] += pd.DateOffset(months=1)"
   ]
  },
  {
   "cell_type": "code",
   "execution_count": 26,
   "metadata": {},
   "outputs": [
    {
     "data": {
      "text/plain": [
       "(array([17897., 17956., 18017., 18078., 18140., 18201.]),\n",
       " [Text(17897.0, 0, '2019-01'),\n",
       "  Text(17956.0, 0, '2019-03'),\n",
       "  Text(18017.0, 0, '2019-05'),\n",
       "  Text(18078.0, 0, '2019-07'),\n",
       "  Text(18140.0, 0, '2019-09'),\n",
       "  Text(18201.0, 0, '2019-11')])"
      ]
     },
     "execution_count": 26,
     "metadata": {},
     "output_type": "execute_result"
    },
    {
     "data": {
      "image/png": "[encoded data removed]",
      "text/plain": [
       "<Figure size 640x480 with 1 Axes>"
      ]
     },
     "metadata": {},
     "output_type": "display_data"
    }
   ],
   "source": [
    "# Plotting the line graph\n",
    "\n",
    "plt.plot(k_gas_year['Year-Month'], k_gas_year['Temperature'])\n",
    "plt.xlabel('Year-Month')\n",
    "plt.ylabel('Temperature')\n",
    "plt.title('Temperature 2019')\n",
    "plt.xticks(rotation=45)"
   ]
  },
  {
   "attachments": {},
   "cell_type": "markdown",
   "metadata": {},
   "source": [
    "* 궁금한 점\n",
    ">  - k_gas_df['Year-Month'] += pd.DateOffset(months=1) 와 k_gas_year['Year-Month'] += pd.DateOffset(months=1) 코드를 삭제하니 error가 뜸"
   ]
  },
  {
   "cell_type": "code",
   "execution_count": 29,
   "metadata": {},
   "outputs": [
    {
     "ename": "ValueError",
     "evalue": "Image size of 9042658x10096 pixels is too large. It must be less than 2^16 in each direction.",
     "output_type": "error",
     "traceback": [
      "\u001b[0;31m---------------------------------------------------------------------------\u001b[0m",
      "\u001b[0;31mValueError\u001b[0m                                Traceback (most recent call last)",
      "File \u001b[0;32m~/anaconda3/envs/review/lib/python3.8/site-packages/IPython/core/formatters.py:340\u001b[0m, in \u001b[0;36mBaseFormatter.__call__\u001b[0;34m(self, obj)\u001b[0m\n\u001b[1;32m    338\u001b[0m     \u001b[39mpass\u001b[39;00m\n\u001b[1;32m    339\u001b[0m \u001b[39melse\u001b[39;00m:\n\u001b[0;32m--> 340\u001b[0m     \u001b[39mreturn\u001b[39;00m printer(obj)\n\u001b[1;32m    341\u001b[0m \u001b[39m# Finally look for special method names\u001b[39;00m\n\u001b[1;32m    342\u001b[0m method \u001b[39m=\u001b[39m get_real_method(obj, \u001b[39mself\u001b[39m\u001b[39m.\u001b[39mprint_method)\n",
      "File \u001b[0;32m~/anaconda3/envs/review/lib/python3.8/site-packages/IPython/core/pylabtools.py:152\u001b[0m, in \u001b[0;36mprint_figure\u001b[0;34m(fig, fmt, bbox_inches, base64, **kwargs)\u001b[0m\n\u001b[1;32m    149\u001b[0m     \u001b[39mfrom\u001b[39;00m \u001b[39mmatplotlib\u001b[39;00m\u001b[39m.\u001b[39;00m\u001b[39mbackend_bases\u001b[39;00m \u001b[39mimport\u001b[39;00m FigureCanvasBase\n\u001b[1;32m    150\u001b[0m     FigureCanvasBase(fig)\n\u001b[0;32m--> 152\u001b[0m fig\u001b[39m.\u001b[39;49mcanvas\u001b[39m.\u001b[39;49mprint_figure(bytes_io, \u001b[39m*\u001b[39;49m\u001b[39m*\u001b[39;49mkw)\n\u001b[1;32m    153\u001b[0m data \u001b[39m=\u001b[39m bytes_io\u001b[39m.\u001b[39mgetvalue()\n\u001b[1;32m    154\u001b[0m \u001b[39mif\u001b[39;00m fmt \u001b[39m==\u001b[39m \u001b[39m'\u001b[39m\u001b[39msvg\u001b[39m\u001b[39m'\u001b[39m:\n",
      "File \u001b[0;32m~/anaconda3/envs/review/lib/python3.8/site-packages/matplotlib/backend_bases.py:2366\u001b[0m, in \u001b[0;36mFigureCanvasBase.print_figure\u001b[0;34m(self, filename, dpi, facecolor, edgecolor, orientation, format, bbox_inches, pad_inches, bbox_extra_artists, backend, **kwargs)\u001b[0m\n\u001b[1;32m   2362\u001b[0m \u001b[39mtry\u001b[39;00m:\n\u001b[1;32m   2363\u001b[0m     \u001b[39m# _get_renderer may change the figure dpi (as vector formats\u001b[39;00m\n\u001b[1;32m   2364\u001b[0m     \u001b[39m# force the figure dpi to 72), so we need to set it again here.\u001b[39;00m\n\u001b[1;32m   2365\u001b[0m     \u001b[39mwith\u001b[39;00m cbook\u001b[39m.\u001b[39m_setattr_cm(\u001b[39mself\u001b[39m\u001b[39m.\u001b[39mfigure, dpi\u001b[39m=\u001b[39mdpi):\n\u001b[0;32m-> 2366\u001b[0m         result \u001b[39m=\u001b[39m print_method(\n\u001b[1;32m   2367\u001b[0m             filename,\n\u001b[1;32m   2368\u001b[0m             facecolor\u001b[39m=\u001b[39;49mfacecolor,\n\u001b[1;32m   2369\u001b[0m             edgecolor\u001b[39m=\u001b[39;49medgecolor,\n\u001b[1;32m   2370\u001b[0m             orientation\u001b[39m=\u001b[39;49morientation,\n\u001b[1;32m   2371\u001b[0m             bbox_inches_restore\u001b[39m=\u001b[39;49m_bbox_inches_restore,\n\u001b[1;32m   2372\u001b[0m             \u001b[39m*\u001b[39;49m\u001b[39m*\u001b[39;49mkwargs)\n\u001b[1;32m   2373\u001b[0m \u001b[39mfinally\u001b[39;00m:\n\u001b[1;32m   2374\u001b[0m     \u001b[39mif\u001b[39;00m bbox_inches \u001b[39mand\u001b[39;00m restore_bbox:\n",
      "File \u001b[0;32m~/anaconda3/envs/review/lib/python3.8/site-packages/matplotlib/backend_bases.py:2232\u001b[0m, in \u001b[0;36mFigureCanvasBase._switch_canvas_and_return_print_method.<locals>.<lambda>\u001b[0;34m(*args, **kwargs)\u001b[0m\n\u001b[1;32m   2228\u001b[0m     optional_kws \u001b[39m=\u001b[39m {  \u001b[39m# Passed by print_figure for other renderers.\u001b[39;00m\n\u001b[1;32m   2229\u001b[0m         \u001b[39m\"\u001b[39m\u001b[39mdpi\u001b[39m\u001b[39m\"\u001b[39m, \u001b[39m\"\u001b[39m\u001b[39mfacecolor\u001b[39m\u001b[39m\"\u001b[39m, \u001b[39m\"\u001b[39m\u001b[39medgecolor\u001b[39m\u001b[39m\"\u001b[39m, \u001b[39m\"\u001b[39m\u001b[39morientation\u001b[39m\u001b[39m\"\u001b[39m,\n\u001b[1;32m   2230\u001b[0m         \u001b[39m\"\u001b[39m\u001b[39mbbox_inches_restore\u001b[39m\u001b[39m\"\u001b[39m}\n\u001b[1;32m   2231\u001b[0m     skip \u001b[39m=\u001b[39m optional_kws \u001b[39m-\u001b[39m {\u001b[39m*\u001b[39minspect\u001b[39m.\u001b[39msignature(meth)\u001b[39m.\u001b[39mparameters}\n\u001b[0;32m-> 2232\u001b[0m     print_method \u001b[39m=\u001b[39m functools\u001b[39m.\u001b[39mwraps(meth)(\u001b[39mlambda\u001b[39;00m \u001b[39m*\u001b[39margs, \u001b[39m*\u001b[39m\u001b[39m*\u001b[39mkwargs: meth(\n\u001b[1;32m   2233\u001b[0m         \u001b[39m*\u001b[39;49margs, \u001b[39m*\u001b[39;49m\u001b[39m*\u001b[39;49m{k: v \u001b[39mfor\u001b[39;49;00m k, v \u001b[39min\u001b[39;49;00m kwargs\u001b[39m.\u001b[39;49mitems() \u001b[39mif\u001b[39;49;00m k \u001b[39mnot\u001b[39;49;00m \u001b[39min\u001b[39;49;00m skip}))\n\u001b[1;32m   2234\u001b[0m \u001b[39melse\u001b[39;00m:  \u001b[39m# Let third-parties do as they see fit.\u001b[39;00m\n\u001b[1;32m   2235\u001b[0m     print_method \u001b[39m=\u001b[39m meth\n",
      "File \u001b[0;32m~/anaconda3/envs/review/lib/python3.8/site-packages/matplotlib/backends/backend_agg.py:509\u001b[0m, in \u001b[0;36mFigureCanvasAgg.print_png\u001b[0;34m(self, filename_or_obj, metadata, pil_kwargs)\u001b[0m\n\u001b[1;32m    462\u001b[0m \u001b[39mdef\u001b[39;00m \u001b[39mprint_png\u001b[39m(\u001b[39mself\u001b[39m, filename_or_obj, \u001b[39m*\u001b[39m, metadata\u001b[39m=\u001b[39m\u001b[39mNone\u001b[39;00m, pil_kwargs\u001b[39m=\u001b[39m\u001b[39mNone\u001b[39;00m):\n\u001b[1;32m    463\u001b[0m \u001b[39m    \u001b[39m\u001b[39m\"\"\"\u001b[39;00m\n\u001b[1;32m    464\u001b[0m \u001b[39m    Write the figure to a PNG file.\u001b[39;00m\n\u001b[1;32m    465\u001b[0m \n\u001b[0;32m   (...)\u001b[0m\n\u001b[1;32m    507\u001b[0m \u001b[39m        *metadata*, including the default 'Software' key.\u001b[39;00m\n\u001b[1;32m    508\u001b[0m \u001b[39m    \"\"\"\u001b[39;00m\n\u001b[0;32m--> 509\u001b[0m     \u001b[39mself\u001b[39;49m\u001b[39m.\u001b[39;49m_print_pil(filename_or_obj, \u001b[39m\"\u001b[39;49m\u001b[39mpng\u001b[39;49m\u001b[39m\"\u001b[39;49m, pil_kwargs, metadata)\n",
      "File \u001b[0;32m~/anaconda3/envs/review/lib/python3.8/site-packages/matplotlib/backends/backend_agg.py:457\u001b[0m, in \u001b[0;36mFigureCanvasAgg._print_pil\u001b[0;34m(self, filename_or_obj, fmt, pil_kwargs, metadata)\u001b[0m\n\u001b[1;32m    452\u001b[0m \u001b[39mdef\u001b[39;00m \u001b[39m_print_pil\u001b[39m(\u001b[39mself\u001b[39m, filename_or_obj, fmt, pil_kwargs, metadata\u001b[39m=\u001b[39m\u001b[39mNone\u001b[39;00m):\n\u001b[1;32m    453\u001b[0m \u001b[39m    \u001b[39m\u001b[39m\"\"\"\u001b[39;00m\n\u001b[1;32m    454\u001b[0m \u001b[39m    Draw the canvas, then save it using `.image.imsave` (to which\u001b[39;00m\n\u001b[1;32m    455\u001b[0m \u001b[39m    *pil_kwargs* and *metadata* are forwarded).\u001b[39;00m\n\u001b[1;32m    456\u001b[0m \u001b[39m    \"\"\"\u001b[39;00m\n\u001b[0;32m--> 457\u001b[0m     FigureCanvasAgg\u001b[39m.\u001b[39;49mdraw(\u001b[39mself\u001b[39;49m)\n\u001b[1;32m    458\u001b[0m     mpl\u001b[39m.\u001b[39mimage\u001b[39m.\u001b[39mimsave(\n\u001b[1;32m    459\u001b[0m         filename_or_obj, \u001b[39mself\u001b[39m\u001b[39m.\u001b[39mbuffer_rgba(), \u001b[39mformat\u001b[39m\u001b[39m=\u001b[39mfmt, origin\u001b[39m=\u001b[39m\u001b[39m\"\u001b[39m\u001b[39mupper\u001b[39m\u001b[39m\"\u001b[39m,\n\u001b[1;32m    460\u001b[0m         dpi\u001b[39m=\u001b[39m\u001b[39mself\u001b[39m\u001b[39m.\u001b[39mfigure\u001b[39m.\u001b[39mdpi, metadata\u001b[39m=\u001b[39mmetadata, pil_kwargs\u001b[39m=\u001b[39mpil_kwargs)\n",
      "File \u001b[0;32m~/anaconda3/envs/review/lib/python3.8/site-packages/matplotlib/backends/backend_agg.py:394\u001b[0m, in \u001b[0;36mFigureCanvasAgg.draw\u001b[0;34m(self)\u001b[0m\n\u001b[1;32m    392\u001b[0m \u001b[39mdef\u001b[39;00m \u001b[39mdraw\u001b[39m(\u001b[39mself\u001b[39m):\n\u001b[1;32m    393\u001b[0m     \u001b[39m# docstring inherited\u001b[39;00m\n\u001b[0;32m--> 394\u001b[0m     \u001b[39mself\u001b[39m\u001b[39m.\u001b[39mrenderer \u001b[39m=\u001b[39m \u001b[39mself\u001b[39;49m\u001b[39m.\u001b[39;49mget_renderer()\n\u001b[1;32m    395\u001b[0m     \u001b[39mself\u001b[39m\u001b[39m.\u001b[39mrenderer\u001b[39m.\u001b[39mclear()\n\u001b[1;32m    396\u001b[0m     \u001b[39m# Acquire a lock on the shared font cache.\u001b[39;00m\n",
      "File \u001b[0;32m~/anaconda3/envs/review/lib/python3.8/site-packages/matplotlib/_api/deprecation.py:384\u001b[0m, in \u001b[0;36mdelete_parameter.<locals>.wrapper\u001b[0;34m(*inner_args, **inner_kwargs)\u001b[0m\n\u001b[1;32m    379\u001b[0m \u001b[39m@functools\u001b[39m\u001b[39m.\u001b[39mwraps(func)\n\u001b[1;32m    380\u001b[0m \u001b[39mdef\u001b[39;00m \u001b[39mwrapper\u001b[39m(\u001b[39m*\u001b[39minner_args, \u001b[39m*\u001b[39m\u001b[39m*\u001b[39minner_kwargs):\n\u001b[1;32m    381\u001b[0m     \u001b[39mif\u001b[39;00m \u001b[39mlen\u001b[39m(inner_args) \u001b[39m<\u001b[39m\u001b[39m=\u001b[39m name_idx \u001b[39mand\u001b[39;00m name \u001b[39mnot\u001b[39;00m \u001b[39min\u001b[39;00m inner_kwargs:\n\u001b[1;32m    382\u001b[0m         \u001b[39m# Early return in the simple, non-deprecated case (much faster than\u001b[39;00m\n\u001b[1;32m    383\u001b[0m         \u001b[39m# calling bind()).\u001b[39;00m\n\u001b[0;32m--> 384\u001b[0m         \u001b[39mreturn\u001b[39;00m func(\u001b[39m*\u001b[39;49minner_args, \u001b[39m*\u001b[39;49m\u001b[39m*\u001b[39;49minner_kwargs)\n\u001b[1;32m    385\u001b[0m     arguments \u001b[39m=\u001b[39m signature\u001b[39m.\u001b[39mbind(\u001b[39m*\u001b[39minner_args, \u001b[39m*\u001b[39m\u001b[39m*\u001b[39minner_kwargs)\u001b[39m.\u001b[39marguments\n\u001b[1;32m    386\u001b[0m     \u001b[39mif\u001b[39;00m is_varargs \u001b[39mand\u001b[39;00m arguments\u001b[39m.\u001b[39mget(name):\n",
      "File \u001b[0;32m~/anaconda3/envs/review/lib/python3.8/site-packages/matplotlib/backends/backend_agg.py:411\u001b[0m, in \u001b[0;36mFigureCanvasAgg.get_renderer\u001b[0;34m(self, cleared)\u001b[0m\n\u001b[1;32m    409\u001b[0m reuse_renderer \u001b[39m=\u001b[39m (\u001b[39mself\u001b[39m\u001b[39m.\u001b[39m_lastKey \u001b[39m==\u001b[39m key)\n\u001b[1;32m    410\u001b[0m \u001b[39mif\u001b[39;00m \u001b[39mnot\u001b[39;00m reuse_renderer:\n\u001b[0;32m--> 411\u001b[0m     \u001b[39mself\u001b[39m\u001b[39m.\u001b[39mrenderer \u001b[39m=\u001b[39m RendererAgg(w, h, \u001b[39mself\u001b[39;49m\u001b[39m.\u001b[39;49mfigure\u001b[39m.\u001b[39;49mdpi)\n\u001b[1;32m    412\u001b[0m     \u001b[39mself\u001b[39m\u001b[39m.\u001b[39m_lastKey \u001b[39m=\u001b[39m key\n\u001b[1;32m    413\u001b[0m \u001b[39melif\u001b[39;00m cleared:\n",
      "File \u001b[0;32m~/anaconda3/envs/review/lib/python3.8/site-packages/matplotlib/backends/backend_agg.py:84\u001b[0m, in \u001b[0;36mRendererAgg.__init__\u001b[0;34m(self, width, height, dpi)\u001b[0m\n\u001b[1;32m     82\u001b[0m \u001b[39mself\u001b[39m\u001b[39m.\u001b[39mwidth \u001b[39m=\u001b[39m width\n\u001b[1;32m     83\u001b[0m \u001b[39mself\u001b[39m\u001b[39m.\u001b[39mheight \u001b[39m=\u001b[39m height\n\u001b[0;32m---> 84\u001b[0m \u001b[39mself\u001b[39m\u001b[39m.\u001b[39m_renderer \u001b[39m=\u001b[39m _RendererAgg(\u001b[39mint\u001b[39;49m(width), \u001b[39mint\u001b[39;49m(height), dpi)\n\u001b[1;32m     85\u001b[0m \u001b[39mself\u001b[39m\u001b[39m.\u001b[39m_filter_renderers \u001b[39m=\u001b[39m []\n\u001b[1;32m     87\u001b[0m \u001b[39mself\u001b[39m\u001b[39m.\u001b[39m_update_methods()\n",
      "\u001b[0;31mValueError\u001b[0m: Image size of 9042658x10096 pixels is too large. It must be less than 2^16 in each direction."
     ]
    },
    {
     "data": {
      "text/plain": [
       "<Figure size 640x480 with 1 Axes>"
      ]
     },
     "metadata": {},
     "output_type": "display_data"
    }
   ],
   "source": [
    "# Display y-values on the plot\n",
    "\n",
    "for i in range(len(k_gas_year)):\n",
    "    plt.text(k_gas_year['Year-Month'].iloc[i], k_gas_year['Temperature'].iloc[i], str(k_gas_year['Temperature'].iloc[i]))\n",
    "\n",
    "plt.show()"
   ]
  }
 ],
 "metadata": {
  "kernelspec": {
   "display_name": "review",
   "language": "python",
   "name": "python3"
  },
  "language_info": {
   "codemirror_mode": {
    "name": "ipython",
    "version": 3
   },
   "file_extension": ".py",
   "mimetype": "text/x-python",
   "name": "python",
   "nbconvert_exporter": "python",
   "pygments_lexer": "ipython3",
   "version": "3.8.16"
  },
  "orig_nbformat": 4
 },
 "nbformat": 4,
 "nbformat_minor": 2
}
