{
 "cells": [
  {
   "attachments": {},
   "cell_type": "markdown",
   "metadata": {},
   "source": [
    "# Assginment (2023-06-22 ~ 2023-06-26)"
   ]
  },
  {
   "attachments": {},
   "cell_type": "markdown",
   "metadata": {},
   "source": [
    "## 2. `Headgear` Dataset\n",
    "\n"
   ]
  },
  {
   "attachments": {},
   "cell_type": "markdown",
   "metadata": {},
   "source": [
    "- import *module*"
   ]
  },
  {
   "cell_type": "code",
   "execution_count": 27,
   "metadata": {},
   "outputs": [],
   "source": [
    "import os\n",
    "import pandas as pd\n",
    "\n",
    "import numpy as np\n",
    "\n",
    "import matplotlib.pyplot as plt\n",
    "import cv2"
   ]
  },
  {
   "attachments": {},
   "cell_type": "markdown",
   "metadata": {},
   "source": [
    "- set the *data directory*"
   ]
  },
  {
   "cell_type": "code",
   "execution_count": 28,
   "metadata": {},
   "outputs": [
    {
     "name": "stdout",
     "output_type": "stream",
     "text": [
      "/NasData/home/knh/review/data/headgear/headgear.csv\n"
     ]
    }
   ],
   "source": [
    "data_dir = '/NasData/home/knh/review/data'\n",
    "headgear_dir = os.path.join(data_dir, 'headgear')\n",
    "headgear_csv = os.path.join(headgear_dir, 'headgear.csv')\n",
    "\n",
    "print(headgear_csv)"
   ]
  },
  {
   "attachments": {},
   "cell_type": "markdown",
   "metadata": {},
   "source": [
    "### 1. load the data from the csv file\n",
    "    - use `pd.read_csv()` function"
   ]
  },
  {
   "cell_type": "code",
   "execution_count": 29,
   "metadata": {},
   "outputs": [],
   "source": [
    "# input your code in below\n",
    "headgear_df = pd.read_csv(headgear_csv)\n"
   ]
  },
  {
   "cell_type": "code",
   "execution_count": 30,
   "metadata": {},
   "outputs": [
    {
     "name": "stdout",
     "output_type": "stream",
     "text": [
      "      class id                filepaths     labels data set\n",
      "0            0  train/ASCOT CAP/001.jpg  ASCOT CAP    train\n",
      "1            0  train/ASCOT CAP/002.jpg  ASCOT CAP    train\n",
      "2            0  train/ASCOT CAP/003.jpg  ASCOT CAP    train\n",
      "3            0  train/ASCOT CAP/004.jpg  ASCOT CAP    train\n",
      "4            0  train/ASCOT CAP/005.jpg  ASCOT CAP    train\n",
      "...        ...                      ...        ...      ...\n",
      "3815        19    valid/ZUCCHETTO/1.jpg  ZUCCHETTO    valid\n",
      "3816        19    valid/ZUCCHETTO/2.jpg  ZUCCHETTO    valid\n",
      "3817        19    valid/ZUCCHETTO/3.jpg  ZUCCHETTO    valid\n",
      "3818        19    valid/ZUCCHETTO/4.jpg  ZUCCHETTO    valid\n",
      "3819        19    valid/ZUCCHETTO/5.jpg  ZUCCHETTO    valid\n",
      "\n",
      "[3820 rows x 4 columns]\n"
     ]
    }
   ],
   "source": [
    "print(headgear_df)"
   ]
  },
  {
   "attachments": {},
   "cell_type": "markdown",
   "metadata": {},
   "source": [
    "### 2. check the data count\n",
    "    - use `value_counts()` function"
   ]
  },
  {
   "cell_type": "code",
   "execution_count": 31,
   "metadata": {},
   "outputs": [],
   "source": [
    "#### input your code in below\n",
    "# # input your code\n",
    "##########"
   ]
  },
  {
   "attachments": {},
   "cell_type": "markdown",
   "metadata": {},
   "source": [
    "### 3. Split the data into train, valid, test set\n",
    "- It need to filter the data with `data set` column"
   ]
  },
  {
   "cell_type": "code",
   "execution_count": 32,
   "metadata": {},
   "outputs": [
    {
     "ename": "NameError",
     "evalue": "name 'split' is not defined",
     "output_type": "error",
     "traceback": [
      "\u001b[0;31m---------------------------------------------------------------------------\u001b[0m",
      "\u001b[0;31mNameError\u001b[0m                                 Traceback (most recent call last)",
      "Cell \u001b[0;32mIn[32], line 2\u001b[0m\n\u001b[1;32m      1\u001b[0m \u001b[39m#### input your code in below\u001b[39;00m\n\u001b[0;32m----> 2\u001b[0m train_data_df, test_data_df \u001b[39m=\u001b[39m split(headgear_df, test_size\u001b[39m=\u001b[39m\u001b[39m0.2\u001b[39m)\n\u001b[1;32m      3\u001b[0m val_data_df, test_data_df \u001b[39m=\u001b[39m split(test_data_df, test_size\u001b[39m=\u001b[39m\u001b[39m0.5\u001b[39m)\n",
      "\u001b[0;31mNameError\u001b[0m: name 'split' is not defined"
     ]
    }
   ],
   "source": [
    "#### input your code in below\n",
    "train_data_df, test_data_df = train_test_split(headgear_df, test_size=0.2)\n",
    "val_data_df, test_data_df = train_test_split(test_data_df, test_size=0.5)"
   ]
  },
  {
   "attachments": {},
   "cell_type": "markdown",
   "metadata": {},
   "source": [
    "### 4. Make the `image_to_tensor` function\n",
    "\n",
    "- use `cv2.imread()` function"
   ]
  },
  {
   "cell_type": "code",
   "execution_count": null,
   "metadata": {},
   "outputs": [
    {
     "ename": "SyntaxError",
     "evalue": "invalid syntax (1150058107.py, line 14)",
     "output_type": "error",
     "traceback": [
      "\u001b[0;36m  Cell \u001b[0;32mIn[18], line 14\u001b[0;36m\u001b[0m\n\u001b[0;31m    return np.array(data), np.array(labels)\u001b[0m\n\u001b[0m    ^\u001b[0m\n\u001b[0;31mSyntaxError\u001b[0m\u001b[0;31m:\u001b[0m invalid syntax\n"
     ]
    }
   ],
   "source": [
    "headgear_dir = os.path.join(data_dir, 'headgear')\n",
    "\n",
    "#### input your code in below\n",
    "def image_to_tensor(data_df):\n",
    "    data = []\n",
    "    labels = []\n",
    "\n",
    "    for index, row in data_df.iterrows():\n",
    "        image_path = os.path.join( # input your code )\n",
    "        image = # input your code\n",
    "        data.append(# input your code)\n",
    "        labels.append(# )\n",
    "\n",
    "    return np.array(data), np.array(labels)\n",
    "#########"
   ]
  },
  {
   "cell_type": "code",
   "execution_count": null,
   "metadata": {},
   "outputs": [],
   "source": [
    "train_data, train_labels = image_to_tensor(train_data_df)\n",
    "valid_data, valid_labels = image_to_tensor(valid_data_df)\n",
    "test_data, test_labels = image_to_tensor(test_data_df)"
   ]
  },
  {
   "attachments": {},
   "cell_type": "markdown",
   "metadata": {},
   "source": [
    "- Check the image shape"
   ]
  },
  {
   "cell_type": "code",
   "execution_count": null,
   "metadata": {},
   "outputs": [],
   "source": [
    "print('Train Data: ', len(train_data))\n",
    "print('Train Labels: ', len(train_labels))\n",
    "print('Train Data Shape: ', train_data[0].shape)"
   ]
  },
  {
   "cell_type": "code",
   "execution_count": null,
   "metadata": {},
   "outputs": [],
   "source": [
    "print('Valid Data: ', len(valid_data))\n",
    "print('Valid Labels: ', len(valid_labels))\n",
    "print('Valid Data Shape: ', valid_data[0].shape)"
   ]
  },
  {
   "cell_type": "code",
   "execution_count": null,
   "metadata": {},
   "outputs": [],
   "source": [
    "print('Test Data: ', len(test_data))\n",
    "print('Test Labels: ', len(test_labels))\n",
    "print('Test Data Shape: ', test_data[0].shape)"
   ]
  }
 ],
 "metadata": {
  "kernelspec": {
   "display_name": "mlcl",
   "language": "python",
   "name": "python3"
  },
  "language_info": {
   "codemirror_mode": {
    "name": "ipython",
    "version": 3
   },
   "file_extension": ".py",
   "mimetype": "text/x-python",
   "name": "python",
   "nbconvert_exporter": "python",
   "pygments_lexer": "ipython3",
   "version": "3.8.16"
  },
  "orig_nbformat": 4
 },
 "nbformat": 4,
 "nbformat_minor": 2
}
