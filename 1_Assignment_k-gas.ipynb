{
 "cells": [
  {
   "attachments": {},
   "cell_type": "markdown",
   "metadata": {},
   "source": [
    "# Assginment (2023-06-15 ~ 2023-06-22)\n",
    "\n",
    "## 1. `k-gas` Dataset\n",
    "\n",
    "### 1. Make the *data load function* with numpy array for `Gas sales` and `temperature`"
   ]
  },
  {
   "attachments": {},
   "cell_type": "markdown",
   "metadata": {},
   "source": [
    "- import *module*"
   ]
  },
  {
   "cell_type": "code",
   "execution_count": 55,
   "metadata": {},
   "outputs": [],
   "source": [
    "import pandas as pd\n",
    "import os"
   ]
  },
  {
   "attachments": {},
   "cell_type": "markdown",
   "metadata": {},
   "source": [
    "- set the *data directory*"
   ]
  },
  {
   "cell_type": "code",
   "execution_count": 56,
   "metadata": {},
   "outputs": [
    {
     "name": "stdout",
     "output_type": "stream",
     "text": [
      "../data/k-gas\n",
      "../data/k-gas/Gas sales with temperature.csv\n"
     ]
    }
   ],
   "source": [
    "data_dir = '../data/'\n",
    "k_gas_dir = os.path.join(data_dir, 'k-gas') # k-gas data directory\n",
    "\n",
    "print(k_gas_dir)\n",
    "\n",
    "k_gas_csv = os.path.join(k_gas_dir, 'Gas sales with temperature.csv')\n",
    "\n",
    "print(k_gas_csv)"
   ]
  },
  {
   "attachments": {},
   "cell_type": "markdown",
   "metadata": {},
   "source": [
    "#### 1. Load the csv file\n",
    "- use `pd.read_csv()` function\n",
    "\n",
    "#### 2. Drop the columns\n",
    "- use `drop()` function\n",
    "\n",
    "#### 4. Convert to numpy array\n",
    "- use `to_numpy()` function"
   ]
  },
  {
   "cell_type": "code",
   "execution_count": 57,
   "metadata": {},
   "outputs": [],
   "source": [
    "def data_load_with_numpy_array(csv):\n",
    "    '''\n",
    "    input your code in below\n",
    "    '''\n",
    "    # ## 1. Load the csv file\n",
    "\n",
    "    data_dir = '../data/'\n",
    "    k_gas_dir = os.path.join(data_dir, 'k-gas') # k-gas data directory\n",
    "    k_gas_csv = os.path.join(k_gas_dir, csv)\n",
    "    k_gas = pd.read_csv(k_gas_csv)\n",
    "    \n",
    "    # #########\n",
    "    \n",
    "    # ## 2. Drop the columns('Year', 'Month', 'Sum')\n",
    "    \n",
    "    k_gas_df = k_gas.drop(['Year', 'Month', 'Sum'], axis= 1)\n",
    "\n",
    "    # #########\n",
    "    \n",
    "    # ## 3. Split the dataframe into two parts with the columns('Temperature') and the other columns\n",
    "\n",
    "    k_gas_temp_df = k_gas['Temperature'] \n",
    "    k_gas_data_df = k_gas.drop(['Year', 'Month', 'Sum', 'Temperature'], axis=1)\n",
    "\n",
    "    # #########\n",
    "    \n",
    "    # ## 4. Convert the dataframe to numpy array\n",
    "\n",
    "    k_gas_temp = k_gas_temp_df.to_numpy()\n",
    "    k_gas_data = k_gas_data_df.to_numpy()\n",
    "\n",
    "    # #########\n",
    "    \n",
    "    label = k_gas_temp\n",
    "    data = k_gas_data\n",
    "    \n",
    "    return data, label"
   ]
  },
  {
   "cell_type": "code",
   "execution_count": 58,
   "metadata": {},
   "outputs": [],
   "source": [
    "k_gas_csv = 'Gas sales with temperature.csv'\n",
    "\n",
    "data, label = data_load_with_numpy_array(csv=k_gas_csv)"
   ]
  },
  {
   "attachments": {},
   "cell_type": "markdown",
   "metadata": {},
   "source": [
    "##### Check the data with `numpy` array\n",
    "\n",
    "- `data type:  <class 'numpy.ndarray'>` \n",
    "- `label type:  <class 'numpy.ndarray'>`"
   ]
  },
  {
   "cell_type": "code",
   "execution_count": 59,
   "metadata": {},
   "outputs": [
    {
     "name": "stdout",
     "output_type": "stream",
     "text": [
      "data type:  <class 'numpy.ndarray'>\n",
      "label type:  <class 'numpy.ndarray'>\n"
     ]
    }
   ],
   "source": [
    "print('data type: ', type(data))\n",
    "print('label type: ', type(label))"
   ]
  },
  {
   "attachments": {},
   "cell_type": "markdown",
   "metadata": {},
   "source": [
    "- `data shape:  (252, 17)`\n",
    "- `label shape:  (252,)`"
   ]
  },
  {
   "cell_type": "code",
   "execution_count": 60,
   "metadata": {},
   "outputs": [
    {
     "name": "stdout",
     "output_type": "stream",
     "text": [
      "data shape:  (252, 17)\n",
      "label shape:  (252,)\n"
     ]
    }
   ],
   "source": [
    "print('data shape: ', data.shape)\n",
    "print('label shape: ', label.shape)"
   ]
  },
  {
   "cell_type": "code",
   "execution_count": 61,
   "metadata": {},
   "outputs": [
    {
     "name": "stdout",
     "output_type": "stream",
     "text": [
      "------------------\n",
      "label:  -1.2\n",
      "data :  [ 16219 662424 363014 139454  42129  55362  39465  86077  52992  85787\n",
      "      0  69241  22508  34507      0  20158  27838]\n",
      "------------------\n",
      "label:  -0.99\n",
      "data :  [ 16280 689177 375937 145834  42604  52863  40674  84069  53950  87282\n",
      "      0  70910  22310  33784      0  23492  27175]\n",
      "------------------\n",
      "label:  6.64\n",
      "data :  [ 14105 566528 323145 121324  35990  47282  34610  76144  41898  74476\n",
      "      0  63627  18033  29315      0  21156  22904]\n",
      "------------------\n",
      "label:  12.11\n",
      "data :  [ 10364 396231 237437  91421  28698  40393  25898  62514  28618  58316\n",
      "      0  47106  15920  19783      0  17447  16818]\n",
      "------------------\n",
      "label:  17.59\n",
      "data :  [  6843 262940 169495  67239  21073  35083  18426  46992  17503  45915\n",
      "      0  43749  13808  14375      0  14508  12299]\n"
     ]
    }
   ],
   "source": [
    "for l, d in zip(label[:5], data[:5]):\n",
    "    print('------------------')\n",
    "    print('label: ', l)\n",
    "    print('data : ', d)"
   ]
  },
  {
   "attachments": {},
   "cell_type": "markdown",
   "metadata": {},
   "source": [
    "### 2. `Split` the data into train and test set "
   ]
  },
  {
   "cell_type": "code",
   "execution_count": 62,
   "metadata": {},
   "outputs": [],
   "source": [
    "from sklearn.model_selection import train_test_split"
   ]
  },
  {
   "cell_type": "code",
   "execution_count": 63,
   "metadata": {},
   "outputs": [],
   "source": [
    "### Split the data and label into train and test set\n",
    "\n",
    "#### input your code in below\n",
    "\n",
    "train_data, test_data = train_test_split(data, test_size=0.2)\n",
    "train_label, test_label = train_test_split(label, test_size=0.2)\n",
    "\n",
    "#########"
   ]
  },
  {
   "attachments": {},
   "cell_type": "markdown",
   "metadata": {},
   "source": [
    "##### Check the train, test data shape"
   ]
  },
  {
   "cell_type": "code",
   "execution_count": 64,
   "metadata": {},
   "outputs": [
    {
     "name": "stdout",
     "output_type": "stream",
     "text": [
      "X_train shape:  (201, 17)\n",
      "X_test shape:  (51, 17)\n"
     ]
    }
   ],
   "source": [
    "print('X_train shape: ', train_data.shape)\n",
    "print('X_test shape: ', test_data.shape)"
   ]
  }
 ],
 "metadata": {
  "kernelspec": {
   "display_name": "mlcl",
   "language": "python",
   "name": "python3"
  },
  "language_info": {
   "codemirror_mode": {
    "name": "ipython",
    "version": 3
   },
   "file_extension": ".py",
   "mimetype": "text/x-python",
   "name": "python",
   "nbconvert_exporter": "python",
   "pygments_lexer": "ipython3",
   "version": "3.8.16"
  },
  "orig_nbformat": 4
 },
 "nbformat": 4,
 "nbformat_minor": 2
}
