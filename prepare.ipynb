{
 "cells": [
  {
   "attachments": {},
   "cell_type": "markdown",
   "metadata": {},
   "source": [
    "MLCL Summer Bootcamp\n",
    "=="
   ]
  },
  {
   "attachments": {},
   "cell_type": "markdown",
   "metadata": {},
   "source": [
    "Preparing for class\n",
    "--"
   ]
  },
  {
   "attachments": {},
   "cell_type": "markdown",
   "metadata": {},
   "source": [
    "* Prepare environment\n",
    ">  - install Vscode\n",
    ">  - install Remote-SSH extension\n",
    ">  - Set the SSH connection to the server\n",
    ">>  - ssh knu@155.230.134.43 -p *****\n",
    ">  - Prepare Terminal\n",
    ">>  - MovaXTerm\n",
    ">>  - Vscode Terminal\n"
   ]
  },
  {
   "attachments": {},
   "cell_type": "markdown",
   "metadata": {},
   "source": [
    "* tmux\n",
    ">  - Create a conda (virtual environment) per project\n",
    "\n",
    ">  - tmux ls\n",
    ">  - tmux new -s [name]\n",
    ">  - tmux attach -t [name]\n",
    ">  - tmux kill-session -t [name]\n",
    ">  - exit\n",
    ">  - Ctrl + b\n"
   ]
  },
  {
   "attachments": {},
   "cell_type": "markdown",
   "metadata": {},
   "source": [
    "* conda (virtual environment)\n",
    ">  - conda env list\n",
    ">  - conda create -n [name]\n",
    ">  - conda create -n [name] python=[version]\n",
    ">  - conda activate [name]\n",
    ">  - conda deactivate\n",
    ">  - conda env remove -n [name]\n",
    ">  - conda --version\n",
    ">  - conda list\n",
    ">  - conda install [package name]\n",
    ">  - conda update [package name]\n",
    ">  - conda remove -n [name] [package name]\n"
   ]
  }
 ],
 "metadata": {
  "kernelspec": {
   "display_name": "mlcl",
   "language": "python",
   "name": "python3"
  },
  "language_info": {
   "name": "python",
   "version": "3.8.16"
  },
  "orig_nbformat": 4
 },
 "nbformat": 4,
 "nbformat_minor": 2
}
